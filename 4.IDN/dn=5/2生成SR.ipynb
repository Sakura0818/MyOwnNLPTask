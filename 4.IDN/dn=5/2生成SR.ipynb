{
 "cells": [
  {
   "cell_type": "code",
   "execution_count": 1,
   "metadata": {},
   "outputs": [],
   "source": [
    "import os\n",
    " \n",
    "def file_name(file_dir): \n",
    "    for root, dirs, files in os.walk(file_dir):\n",
    "        continue\n",
    "        #print(root) #当前目录路径\n",
    "        #print(dirs) #当前路径下所有子目录\n",
    "       # print(files) #当前路径下所有非目录子文件\n",
    "    return files\n"
   ]
  },
  {
   "cell_type": "markdown",
   "metadata": {},
   "source": [
    "## 控制c 只有需要检测的图片"
   ]
  },
  {
   "cell_type": "markdown",
   "metadata": {},
   "source": [
    "# 加载模型"
   ]
  },
  {
   "cell_type": "code",
   "execution_count": 2,
   "metadata": {},
   "outputs": [],
   "source": [
    "import argparse\n",
    "import os\n",
    "import torch\n",
    "import torch.backends.cudnn as cudnn\n",
    "import numpy as np\n",
    "import PIL.Image as pil_image\n",
    "\n",
    "from myutils import rgb2ycbcr, ycbcr2rgb, calc_psnr"
   ]
  },
  {
   "cell_type": "code",
   "execution_count": 3,
   "metadata": {},
   "outputs": [],
   "source": [
    "cudnn.benchmark = True\n",
    "device = torch.device('cuda:0' if torch.cuda.is_available() else 'cpu')"
   ]
  },
  {
   "cell_type": "code",
   "execution_count": 4,
   "metadata": {},
   "outputs": [],
   "source": [
    "from rcan import make_model"
   ]
  },
  {
   "cell_type": "code",
   "execution_count": 5,
   "metadata": {},
   "outputs": [],
   "source": [
    "class modelargs():\n",
    "    def __init__(self):\n",
    "        self.n_resgroups=10\n",
    "        self.n_resblocks=20\n",
    "        self.n_feats=64\n",
    "        self.reduction=16\n",
    "        self.scale=[2]\n",
    "        self.rgb_range=255\n",
    "        self.n_colors=3\n",
    "        self.res_scale=1"
   ]
  },
  {
   "cell_type": "code",
   "execution_count": 6,
   "metadata": {},
   "outputs": [],
   "source": [
    "model = make_model(modelargs()).to(device)"
   ]
  },
  {
   "cell_type": "markdown",
   "metadata": {},
   "source": [
    "# 定义psnr函数"
   ]
  },
  {
   "cell_type": "code",
   "execution_count": 7,
   "metadata": {},
   "outputs": [],
   "source": [
    "def get_psnr(testdata,myscale,picidx):\n",
    "   # print(filename)\n",
    "    scale=myscale\n",
    "   # text= os.path.split(filename)[-1]\n",
    "  #  textname = os.path.splitext(text)[0]\n",
    "    \n",
    "    lrpath=\"../LR/{}/x{}/\".format(testdata,myscale)\n",
    "    hrpath=\"../HR/{}/x{}/\".format(testdata,myscale)\n",
    "    \n",
    "    clrpath=file_name(lrpath)\n",
    "    chrpath=file_name(hrpath)\n",
    "  #  print(clrpath[picidx])\n",
    "    textname=str(clrpath[picidx]).split(\"_LRBI\")[0]\n",
    "#     textname=textnames[0]\n",
    "#     for i in range(len(textnames)-1):\n",
    "#         if(textnames[i+1]=='LRBI'):\n",
    "#             break\n",
    "#         textname=textname+textnames[i+1]\n",
    "        \n",
    "        \n",
    "    \n",
    "    \n",
    "    \n",
    "    lr = pil_image.open(lrpath+clrpath[picidx]).convert('RGB')\n",
    "    lr = np.array(lr).astype(np.float32).transpose([2,0,1])\n",
    " #   lrycbcr = rgb2ycbcr(lr)\n",
    "    \n",
    "   # y = lrycbcr[..., 0]\n",
    "   # print(lr.shape)\n",
    "    y =lr /255.\n",
    "    y = torch.from_numpy(y).to(device)\n",
    "    y = y.unsqueeze(0)\n",
    "    \n",
    "    \n",
    "    #print(\"y:{}\".format(y.size()))########################################################################\n",
    "\n",
    "    hr = pil_image.open(hrpath+chrpath[picidx]).convert('RGB')\n",
    "    hr=np.array(hr).astype(np.float32).transpose([2,0,1])\n",
    "  #  hrycbcrb = rgb2ycbcr(hr)\n",
    "  #  ya = hrycbcrb[..., 0]\n",
    "  \n",
    "    ya =hr/ 255.\n",
    "    ya = torch.from_numpy(ya).to(device)\n",
    "    ya = ya.unsqueeze(0)\n",
    "  #  print(\"ya:{}\".format(ya.size()))########################################################################\n",
    "\n",
    "    #print(y.size())\n",
    "\n",
    "    with torch.no_grad():\n",
    "        preds = model(y).clamp(0.0, 1.0)\n",
    "\n",
    "    psnr = calc_psnr(ya, preds)\n",
    "\n",
    "    print('PSNR: {:.2f}'.format(psnr))\n",
    "\n",
    "    preds = preds.mul(255.0).cpu().numpy().squeeze(0)\n",
    "    \n",
    "    #print(preds.shape)\n",
    "    output = np.array(preds).transpose([1, 2, 0])\n",
    "    output = np.clip((output), 0.0, 255.0).astype(np.uint8)\n",
    "    output = pil_image.fromarray(output)\n",
    "    savepath='./{}/x{}/{}_idn_x{}.png'.format(testdata,myscale,textname,scale)\n",
    "    \n",
    "    if not os.path.exists(os.path.split(savepath)[0]):\n",
    "        os.makedirs(os.path.split(savepath)[0])\n",
    "     \n",
    "    \n",
    "    output.save(savepath)\n",
    "    \n",
    "    preds = None\n",
    "    output = None\n",
    "    ya = None\n",
    "    y = None\n",
    "    lr = None\n",
    "    hr = None\n",
    "    \n",
    "    \n",
    "    \n",
    "    return psnr\n"
   ]
  },
  {
   "cell_type": "markdown",
   "metadata": {},
   "source": [
    "# 单独计算psnr"
   ]
  },
  {
   "cell_type": "code",
   "execution_count": 8,
   "metadata": {},
   "outputs": [
    {
     "name": "stdout",
     "output_type": "stream",
     "text": [
      "./checkpoint/model_epoch_989.pth\n"
     ]
    }
   ],
   "source": [
    "modelname='./checkpoint/model_epoch_989.pth'\n",
    "print(modelname)"
   ]
  },
  {
   "cell_type": "code",
   "execution_count": 9,
   "metadata": {},
   "outputs": [],
   "source": [
    "from model import IDN"
   ]
  },
  {
   "cell_type": "code",
   "execution_count": 10,
   "metadata": {},
   "outputs": [],
   "source": [
    "class modelargs():\n",
    "    def __init__(self):\n",
    "        self.n_resgroups=10\n",
    "        self.n_resblocks=20\n",
    "        self.n_feats=64\n",
    "        self.reduction=16\n",
    "        self.scale=2\n",
    "        self.rgb_range=255\n",
    "        self.n_colors=3\n",
    "        self.res_scale=1\n",
    "        self.d=16\n",
    "        self.s=4"
   ]
  },
  {
   "cell_type": "code",
   "execution_count": 11,
   "metadata": {},
   "outputs": [],
   "source": [
    "model = IDN(modelargs())"
   ]
  },
  {
   "cell_type": "code",
   "execution_count": 12,
   "metadata": {},
   "outputs": [],
   "source": [
    "\n",
    "state_dict = model.state_dict()\n",
    "for n, p in torch.load(modelname, map_location=lambda storage, loc: storage).items():\n",
    "    if n in state_dict.keys():\n",
    "        state_dict[n].copy_(p)\n",
    "    else:\n",
    "        raise KeyError(n)\n"
   ]
  },
  {
   "cell_type": "code",
   "execution_count": null,
   "metadata": {},
   "outputs": [],
   "source": []
  },
  {
   "cell_type": "code",
   "execution_count": null,
   "metadata": {},
   "outputs": [],
   "source": []
  },
  {
   "cell_type": "code",
   "execution_count": null,
   "metadata": {},
   "outputs": [],
   "source": []
  },
  {
   "cell_type": "code",
   "execution_count": 13,
   "metadata": {},
   "outputs": [],
   "source": [
    "testdata=\"Set5\"\n",
    "myscale = 2"
   ]
  },
  {
   "cell_type": "code",
   "execution_count": 14,
   "metadata": {},
   "outputs": [],
   "source": [
    "hrpath=\"../HR/{}/x{}/\".format(testdata,myscale)\n",
    "lrpath=\"../LR/{}/x{}/\".format(testdata,myscale)\n",
    "clrpath=file_name(lrpath)"
   ]
  },
  {
   "cell_type": "code",
   "execution_count": 15,
   "metadata": {},
   "outputs": [],
   "source": [
    "count=len(clrpath)"
   ]
  },
  {
   "cell_type": "code",
   "execution_count": 16,
   "metadata": {},
   "outputs": [
    {
     "name": "stdout",
     "output_type": "stream",
     "text": [
      "5\n"
     ]
    }
   ],
   "source": [
    "\n",
    "\n",
    "hrpath=\"../HR/{}/x{}/\".format(testdata,myscale)\n",
    "\n",
    "chrpath=file_name(hrpath)\n",
    "\n",
    "count=len(chrpath)\n",
    "print(count)"
   ]
  },
  {
   "cell_type": "code",
   "execution_count": 17,
   "metadata": {
    "scrolled": true
   },
   "outputs": [
    {
     "data": {
      "text/plain": [
       "IDN(\n",
       "  (fblock): FBlock(\n",
       "    (module): Sequential(\n",
       "      (0): Conv2d(3, 64, kernel_size=(3, 3), stride=(1, 1), padding=(1, 1))\n",
       "      (1): LeakyReLU(negative_slope=0.05)\n",
       "      (2): Conv2d(64, 64, kernel_size=(3, 3), stride=(1, 1), padding=(1, 1))\n",
       "      (3): LeakyReLU(negative_slope=0.05)\n",
       "    )\n",
       "  )\n",
       "  (dblocks): Sequential(\n",
       "    (0): DBlock(\n",
       "      (enhancement_top): Sequential(\n",
       "        (0): Conv2d(64, 48, kernel_size=(3, 3), stride=(1, 1), padding=(1, 1))\n",
       "        (1): LeakyReLU(negative_slope=0.05)\n",
       "        (2): Conv2d(48, 32, kernel_size=(3, 3), stride=(1, 1), padding=(1, 1), groups=4)\n",
       "        (3): LeakyReLU(negative_slope=0.05)\n",
       "        (4): Conv2d(32, 64, kernel_size=(3, 3), stride=(1, 1), padding=(1, 1))\n",
       "        (5): LeakyReLU(negative_slope=0.05)\n",
       "      )\n",
       "      (enhancement_bottom): Sequential(\n",
       "        (0): Conv2d(48, 64, kernel_size=(3, 3), stride=(1, 1), padding=(1, 1))\n",
       "        (1): LeakyReLU(negative_slope=0.05)\n",
       "        (2): Conv2d(64, 48, kernel_size=(3, 3), stride=(1, 1), padding=(1, 1), groups=4)\n",
       "        (3): LeakyReLU(negative_slope=0.05)\n",
       "        (4): Conv2d(48, 80, kernel_size=(3, 3), stride=(1, 1), padding=(1, 1))\n",
       "        (5): LeakyReLU(negative_slope=0.05)\n",
       "      )\n",
       "      (compression): Conv2d(80, 64, kernel_size=(1, 1), stride=(1, 1))\n",
       "    )\n",
       "    (1): DBlock(\n",
       "      (enhancement_top): Sequential(\n",
       "        (0): Conv2d(64, 48, kernel_size=(3, 3), stride=(1, 1), padding=(1, 1))\n",
       "        (1): LeakyReLU(negative_slope=0.05)\n",
       "        (2): Conv2d(48, 32, kernel_size=(3, 3), stride=(1, 1), padding=(1, 1), groups=4)\n",
       "        (3): LeakyReLU(negative_slope=0.05)\n",
       "        (4): Conv2d(32, 64, kernel_size=(3, 3), stride=(1, 1), padding=(1, 1))\n",
       "        (5): LeakyReLU(negative_slope=0.05)\n",
       "      )\n",
       "      (enhancement_bottom): Sequential(\n",
       "        (0): Conv2d(48, 64, kernel_size=(3, 3), stride=(1, 1), padding=(1, 1))\n",
       "        (1): LeakyReLU(negative_slope=0.05)\n",
       "        (2): Conv2d(64, 48, kernel_size=(3, 3), stride=(1, 1), padding=(1, 1), groups=4)\n",
       "        (3): LeakyReLU(negative_slope=0.05)\n",
       "        (4): Conv2d(48, 80, kernel_size=(3, 3), stride=(1, 1), padding=(1, 1))\n",
       "        (5): LeakyReLU(negative_slope=0.05)\n",
       "      )\n",
       "      (compression): Conv2d(80, 64, kernel_size=(1, 1), stride=(1, 1))\n",
       "    )\n",
       "    (2): DBlock(\n",
       "      (enhancement_top): Sequential(\n",
       "        (0): Conv2d(64, 48, kernel_size=(3, 3), stride=(1, 1), padding=(1, 1))\n",
       "        (1): LeakyReLU(negative_slope=0.05)\n",
       "        (2): Conv2d(48, 32, kernel_size=(3, 3), stride=(1, 1), padding=(1, 1), groups=4)\n",
       "        (3): LeakyReLU(negative_slope=0.05)\n",
       "        (4): Conv2d(32, 64, kernel_size=(3, 3), stride=(1, 1), padding=(1, 1))\n",
       "        (5): LeakyReLU(negative_slope=0.05)\n",
       "      )\n",
       "      (enhancement_bottom): Sequential(\n",
       "        (0): Conv2d(48, 64, kernel_size=(3, 3), stride=(1, 1), padding=(1, 1))\n",
       "        (1): LeakyReLU(negative_slope=0.05)\n",
       "        (2): Conv2d(64, 48, kernel_size=(3, 3), stride=(1, 1), padding=(1, 1), groups=4)\n",
       "        (3): LeakyReLU(negative_slope=0.05)\n",
       "        (4): Conv2d(48, 80, kernel_size=(3, 3), stride=(1, 1), padding=(1, 1))\n",
       "        (5): LeakyReLU(negative_slope=0.05)\n",
       "      )\n",
       "      (compression): Conv2d(80, 64, kernel_size=(1, 1), stride=(1, 1))\n",
       "    )\n",
       "    (3): DBlock(\n",
       "      (enhancement_top): Sequential(\n",
       "        (0): Conv2d(64, 48, kernel_size=(3, 3), stride=(1, 1), padding=(1, 1))\n",
       "        (1): LeakyReLU(negative_slope=0.05)\n",
       "        (2): Conv2d(48, 32, kernel_size=(3, 3), stride=(1, 1), padding=(1, 1), groups=4)\n",
       "        (3): LeakyReLU(negative_slope=0.05)\n",
       "        (4): Conv2d(32, 64, kernel_size=(3, 3), stride=(1, 1), padding=(1, 1))\n",
       "        (5): LeakyReLU(negative_slope=0.05)\n",
       "      )\n",
       "      (enhancement_bottom): Sequential(\n",
       "        (0): Conv2d(48, 64, kernel_size=(3, 3), stride=(1, 1), padding=(1, 1))\n",
       "        (1): LeakyReLU(negative_slope=0.05)\n",
       "        (2): Conv2d(64, 48, kernel_size=(3, 3), stride=(1, 1), padding=(1, 1), groups=4)\n",
       "        (3): LeakyReLU(negative_slope=0.05)\n",
       "        (4): Conv2d(48, 80, kernel_size=(3, 3), stride=(1, 1), padding=(1, 1))\n",
       "        (5): LeakyReLU(negative_slope=0.05)\n",
       "      )\n",
       "      (compression): Conv2d(80, 64, kernel_size=(1, 1), stride=(1, 1))\n",
       "    )\n",
       "    (4): DBlock(\n",
       "      (enhancement_top): Sequential(\n",
       "        (0): Conv2d(64, 48, kernel_size=(3, 3), stride=(1, 1), padding=(1, 1))\n",
       "        (1): LeakyReLU(negative_slope=0.05)\n",
       "        (2): Conv2d(48, 32, kernel_size=(3, 3), stride=(1, 1), padding=(1, 1), groups=4)\n",
       "        (3): LeakyReLU(negative_slope=0.05)\n",
       "        (4): Conv2d(32, 64, kernel_size=(3, 3), stride=(1, 1), padding=(1, 1))\n",
       "        (5): LeakyReLU(negative_slope=0.05)\n",
       "      )\n",
       "      (enhancement_bottom): Sequential(\n",
       "        (0): Conv2d(48, 64, kernel_size=(3, 3), stride=(1, 1), padding=(1, 1))\n",
       "        (1): LeakyReLU(negative_slope=0.05)\n",
       "        (2): Conv2d(64, 48, kernel_size=(3, 3), stride=(1, 1), padding=(1, 1), groups=4)\n",
       "        (3): LeakyReLU(negative_slope=0.05)\n",
       "        (4): Conv2d(48, 80, kernel_size=(3, 3), stride=(1, 1), padding=(1, 1))\n",
       "        (5): LeakyReLU(negative_slope=0.05)\n",
       "      )\n",
       "      (compression): Conv2d(80, 64, kernel_size=(1, 1), stride=(1, 1))\n",
       "    )\n",
       "  )\n",
       "  (deconv): ConvTranspose2d(64, 3, kernel_size=(17, 17), stride=(2, 2), padding=(8, 8), output_padding=(1, 1))\n",
       ")"
      ]
     },
     "execution_count": 17,
     "metadata": {},
     "output_type": "execute_result"
    }
   ],
   "source": [
    "\n",
    "model=model.to(device)\n",
    "model.eval()"
   ]
  },
  {
   "cell_type": "code",
   "execution_count": 18,
   "metadata": {
    "scrolled": false
   },
   "outputs": [
    {
     "name": "stdout",
     "output_type": "stream",
     "text": [
      "PSNR: 36.72\n",
      "PSNR: 35.95\n",
      "PSNR: 27.47\n",
      "PSNR: 31.88\n",
      "PSNR: 32.21\n",
      "avg_psnr is :32.84\n"
     ]
    }
   ],
   "source": [
    "\n",
    "sum_psnr=0\n",
    "for i in range(count):\n",
    " #   filename = os.path.join(\"../\"+testdata+\"/\"+c[i])\n",
    "       \n",
    "    sum_psnr += get_psnr(testdata,myscale,i)\n",
    "\n",
    "print(\"avg_psnr is :{:.2f}\".format(sum_psnr/count))"
   ]
  },
  {
   "cell_type": "code",
   "execution_count": null,
   "metadata": {},
   "outputs": [],
   "source": []
  },
  {
   "cell_type": "code",
   "execution_count": null,
   "metadata": {},
   "outputs": [],
   "source": []
  },
  {
   "cell_type": "code",
   "execution_count": null,
   "metadata": {},
   "outputs": [],
   "source": []
  },
  {
   "cell_type": "code",
   "execution_count": null,
   "metadata": {},
   "outputs": [],
   "source": []
  },
  {
   "cell_type": "code",
   "execution_count": null,
   "metadata": {},
   "outputs": [],
   "source": []
  },
  {
   "cell_type": "code",
   "execution_count": null,
   "metadata": {},
   "outputs": [],
   "source": []
  },
  {
   "cell_type": "code",
   "execution_count": null,
   "metadata": {},
   "outputs": [],
   "source": []
  },
  {
   "cell_type": "code",
   "execution_count": null,
   "metadata": {},
   "outputs": [],
   "source": []
  },
  {
   "cell_type": "code",
   "execution_count": null,
   "metadata": {},
   "outputs": [],
   "source": []
  },
  {
   "cell_type": "code",
   "execution_count": null,
   "metadata": {},
   "outputs": [],
   "source": []
  },
  {
   "cell_type": "code",
   "execution_count": null,
   "metadata": {},
   "outputs": [],
   "source": []
  },
  {
   "cell_type": "code",
   "execution_count": 19,
   "metadata": {},
   "outputs": [
    {
     "name": "stdout",
     "output_type": "stream",
     "text": [
      "109\n",
      "PSNR: 32.31\n",
      "PSNR: 29.05\n",
      "PSNR: 38.39\n",
      "PSNR: 33.67\n",
      "PSNR: 30.64\n",
      "PSNR: 32.97\n",
      "PSNR: 29.68\n",
      "PSNR: 29.84\n",
      "PSNR: 29.84\n",
      "PSNR: 26.69\n",
      "PSNR: 29.72\n",
      "PSNR: 29.51\n",
      "PSNR: 31.65\n",
      "PSNR: 30.43\n",
      "PSNR: 30.57\n",
      "PSNR: 29.23\n",
      "PSNR: 30.21\n",
      "PSNR: 34.81\n",
      "PSNR: 32.25\n",
      "PSNR: 32.60\n",
      "PSNR: 31.38\n",
      "PSNR: 31.10\n",
      "PSNR: 34.67\n",
      "PSNR: 32.20\n",
      "PSNR: 28.72\n",
      "PSNR: 31.81\n",
      "PSNR: 35.38\n",
      "PSNR: 33.00\n",
      "PSNR: 33.53\n",
      "PSNR: 32.07\n",
      "PSNR: 27.84\n",
      "PSNR: 27.85\n",
      "PSNR: 33.73\n",
      "PSNR: 29.55\n",
      "PSNR: 28.63\n",
      "PSNR: 32.18\n",
      "PSNR: 27.02\n",
      "PSNR: 33.49\n",
      "PSNR: 35.24\n",
      "PSNR: 27.36\n",
      "PSNR: 30.54\n",
      "PSNR: 33.13\n",
      "PSNR: 22.44\n",
      "PSNR: 35.16\n",
      "PSNR: 24.41\n",
      "PSNR: 29.72\n",
      "PSNR: 26.95\n",
      "PSNR: 34.14\n",
      "PSNR: 26.75\n",
      "PSNR: 29.62\n",
      "PSNR: 29.26\n",
      "PSNR: 33.03\n",
      "PSNR: 39.02\n",
      "PSNR: 34.00\n",
      "PSNR: 24.45\n",
      "PSNR: 34.26\n",
      "PSNR: 30.46\n",
      "PSNR: 31.18\n",
      "PSNR: 24.04\n",
      "PSNR: 32.63\n",
      "PSNR: 32.09\n",
      "PSNR: 30.29\n",
      "PSNR: 34.29\n",
      "PSNR: 34.40\n",
      "PSNR: 32.53\n",
      "PSNR: 24.23\n",
      "PSNR: 31.53\n",
      "PSNR: 29.19\n",
      "PSNR: 32.98\n",
      "PSNR: 30.21\n",
      "PSNR: 28.68\n",
      "PSNR: 34.63\n",
      "PSNR: 34.53\n",
      "PSNR: 30.60\n",
      "PSNR: 29.98\n",
      "PSNR: 31.16\n",
      "PSNR: 31.30\n",
      "PSNR: 26.65\n",
      "PSNR: 31.24\n",
      "PSNR: 32.24\n",
      "PSNR: 30.62\n",
      "PSNR: 33.30\n",
      "PSNR: 31.05\n",
      "PSNR: 28.19\n",
      "PSNR: 32.61\n",
      "PSNR: 29.74\n",
      "PSNR: 33.53\n",
      "PSNR: 33.09\n",
      "PSNR: 29.99\n",
      "PSNR: 24.05\n",
      "PSNR: 29.23\n",
      "PSNR: 26.55\n",
      "PSNR: 21.02\n",
      "PSNR: 33.35\n",
      "PSNR: 26.13\n",
      "PSNR: 29.01\n",
      "PSNR: 33.93\n",
      "PSNR: 27.13\n",
      "PSNR: 27.85\n",
      "PSNR: 23.55\n",
      "PSNR: 28.50\n",
      "PSNR: 27.28\n",
      "PSNR: 35.03\n",
      "PSNR: 30.74\n",
      "PSNR: 28.02\n",
      "PSNR: 30.30\n",
      "PSNR: 37.00\n",
      "PSNR: 31.29\n",
      "PSNR: 33.00\n",
      "avg_psnr is :30.68\n"
     ]
    }
   ],
   "source": [
    "testdata=\"Manga109\"\n",
    "\n",
    "\n",
    "hrpath=\"../HR/{}/x{}/\".format(testdata,myscale)\n",
    "lrpath=\"../LR/{}/x{}/\".format(testdata,myscale)\n",
    "clrpath=file_name(lrpath)\n",
    "count=len(clrpath)\n",
    "\n",
    "hrpath=\"../HR/{}/x{}/\".format(testdata,myscale)\n",
    "\n",
    "chrpath=file_name(hrpath)\n",
    "\n",
    "count=len(chrpath)\n",
    "print(count)\n",
    "model.load_state_dict(torch.load(modelname))\n",
    "model=model.to(device)\n",
    "model.eval()\n",
    "sum_psnr=0\n",
    "for i in range(count):\n",
    " #   filename = os.path.join(\"../\"+testdata+\"/\"+c[i])\n",
    "       \n",
    "    sum_psnr += get_psnr(testdata,myscale,i)\n",
    "\n",
    "print(\"avg_psnr is :{:.2f}\".format(sum_psnr/count))"
   ]
  },
  {
   "cell_type": "code",
   "execution_count": 20,
   "metadata": {
    "scrolled": true
   },
   "outputs": [
    {
     "name": "stdout",
     "output_type": "stream",
     "text": [
      "14\n",
      "PSNR: 22.96\n",
      "PSNR: 26.84\n",
      "PSNR: 27.32\n",
      "PSNR: 28.94\n",
      "PSNR: 25.72\n",
      "PSNR: 31.86\n",
      "PSNR: 29.38\n",
      "PSNR: 32.18\n",
      "PSNR: 33.00\n",
      "PSNR: 28.72\n",
      "PSNR: 32.89\n",
      "PSNR: 30.78\n",
      "PSNR: 26.62\n",
      "PSNR: 30.88\n",
      "avg_psnr is :29.15\n"
     ]
    }
   ],
   "source": [
    "testdata=\"Set14\"\n",
    "\n",
    "\n",
    "hrpath=\"../HR/{}/x{}/\".format(testdata,myscale)\n",
    "lrpath=\"../LR/{}/x{}/\".format(testdata,myscale)\n",
    "clrpath=file_name(lrpath)\n",
    "count=len(clrpath)\n",
    "\n",
    "hrpath=\"../HR/{}/x{}/\".format(testdata,myscale)\n",
    "\n",
    "chrpath=file_name(hrpath)\n",
    "\n",
    "count=len(chrpath)\n",
    "print(count)\n",
    "model.load_state_dict(torch.load(modelname))\n",
    "model=model.to(device)\n",
    "model.eval()\n",
    "sum_psnr=0\n",
    "for i in range(count):\n",
    " #   filename = os.path.join(\"../\"+testdata+\"/\"+c[i])\n",
    "       \n",
    "    sum_psnr += get_psnr(testdata,myscale,i)\n",
    "\n",
    "print(\"avg_psnr is :{:.2f}\".format(sum_psnr/count))"
   ]
  },
  {
   "cell_type": "code",
   "execution_count": 21,
   "metadata": {
    "scrolled": true
   },
   "outputs": [
    {
     "name": "stdout",
     "output_type": "stream",
     "text": [
      "100\n",
      "PSNR: 25.08\n",
      "PSNR: 29.69\n",
      "PSNR: 27.48\n",
      "PSNR: 32.88\n",
      "PSNR: 28.31\n",
      "PSNR: 34.88\n",
      "PSNR: 29.39\n",
      "PSNR: 24.99\n",
      "PSNR: 29.89\n",
      "PSNR: 31.72\n",
      "PSNR: 25.85\n",
      "PSNR: 30.98\n",
      "PSNR: 33.42\n",
      "PSNR: 30.64\n",
      "PSNR: 27.15\n",
      "PSNR: 28.40\n",
      "PSNR: 35.46\n",
      "PSNR: 34.00\n",
      "PSNR: 26.47\n",
      "PSNR: 27.14\n",
      "PSNR: 24.14\n",
      "PSNR: 25.86\n",
      "PSNR: 25.94\n",
      "PSNR: 28.22\n",
      "PSNR: 30.09\n",
      "PSNR: 29.77\n",
      "PSNR: 29.87\n",
      "PSNR: 32.36\n",
      "PSNR: 32.06\n",
      "PSNR: 21.22\n",
      "PSNR: 32.17\n",
      "PSNR: 22.55\n",
      "PSNR: 28.16\n",
      "PSNR: 25.69\n",
      "PSNR: 35.59\n",
      "PSNR: 28.93\n",
      "PSNR: 28.58\n",
      "PSNR: 29.07\n",
      "PSNR: 30.94\n",
      "PSNR: 35.31\n",
      "PSNR: 28.15\n",
      "PSNR: 26.78\n",
      "PSNR: 27.97\n",
      "PSNR: 29.47\n",
      "PSNR: 25.85\n",
      "PSNR: 35.62\n",
      "PSNR: 24.90\n",
      "PSNR: 27.16\n",
      "PSNR: 28.95\n",
      "PSNR: 33.46\n",
      "PSNR: 26.38\n",
      "PSNR: 25.14\n",
      "PSNR: 33.50\n",
      "PSNR: 34.02\n",
      "PSNR: 29.93\n",
      "PSNR: 27.23\n",
      "PSNR: 22.42\n",
      "PSNR: 28.79\n",
      "PSNR: 33.36\n",
      "PSNR: 31.58\n",
      "PSNR: 32.95\n",
      "PSNR: 30.30\n",
      "PSNR: 34.96\n",
      "PSNR: 26.51\n",
      "PSNR: 27.61\n",
      "PSNR: 30.55\n",
      "PSNR: 39.49\n",
      "PSNR: 23.28\n",
      "PSNR: 24.01\n",
      "PSNR: 30.79\n",
      "PSNR: 30.88\n",
      "PSNR: 27.70\n",
      "PSNR: 29.16\n",
      "PSNR: 27.65\n",
      "PSNR: 25.50\n",
      "PSNR: 32.04\n",
      "PSNR: 25.43\n",
      "PSNR: 31.84\n",
      "PSNR: 31.46\n",
      "PSNR: 31.69\n",
      "PSNR: 37.22\n",
      "PSNR: 29.33\n",
      "PSNR: 23.80\n",
      "PSNR: 22.74\n",
      "PSNR: 26.32\n",
      "PSNR: 26.66\n",
      "PSNR: 28.99\n",
      "PSNR: 33.27\n",
      "PSNR: 28.52\n",
      "PSNR: 28.12\n",
      "PSNR: 31.22\n",
      "PSNR: 26.97\n",
      "PSNR: 34.82\n",
      "PSNR: 28.39\n",
      "PSNR: 27.52\n",
      "PSNR: 22.49\n",
      "PSNR: 28.22\n",
      "PSNR: 28.50\n",
      "PSNR: 28.47\n",
      "PSNR: 26.85\n",
      "avg_psnr is :29.13\n"
     ]
    }
   ],
   "source": [
    "testdata=\"B100\"\n",
    "\n",
    "\n",
    "hrpath=\"../HR/{}/x{}/\".format(testdata,myscale)\n",
    "lrpath=\"../LR/{}/x{}/\".format(testdata,myscale)\n",
    "clrpath=file_name(lrpath)\n",
    "count=len(clrpath)\n",
    "\n",
    "hrpath=\"../HR/{}/x{}/\".format(testdata,myscale)\n",
    "\n",
    "chrpath=file_name(hrpath)\n",
    "\n",
    "count=len(chrpath)\n",
    "print(count)\n",
    "model.load_state_dict(torch.load(modelname))\n",
    "model=model.to(device)\n",
    "model.eval()\n",
    "\n",
    "sum_psnr=0\n",
    "for i in range(count):\n",
    " #   filename = os.path.join(\"../\"+testdata+\"/\"+c[i])\n",
    "       \n",
    "    sum_psnr += get_psnr(testdata,myscale,i)\n",
    "\n",
    "print(\"avg_psnr is :{:.2f}\".format(sum_psnr/count))"
   ]
  },
  {
   "cell_type": "code",
   "execution_count": 22,
   "metadata": {
    "scrolled": true
   },
   "outputs": [
    {
     "name": "stdout",
     "output_type": "stream",
     "text": [
      "100\n",
      "PSNR: 28.55\n",
      "PSNR: 27.33\n",
      "PSNR: 25.37\n",
      "PSNR: 23.26\n",
      "PSNR: 25.65\n",
      "PSNR: 24.01\n",
      "PSNR: 28.19\n",
      "PSNR: 23.22\n",
      "PSNR: 33.15\n",
      "PSNR: 27.49\n",
      "PSNR: 17.96\n",
      "PSNR: 25.45\n",
      "PSNR: 28.31\n",
      "PSNR: 26.56\n",
      "PSNR: 26.85\n",
      "PSNR: 28.36\n",
      "PSNR: 26.14\n",
      "PSNR: 27.29\n",
      "PSNR: 22.30\n",
      "PSNR: 23.15\n",
      "PSNR: 30.04\n",
      "PSNR: 29.22\n",
      "PSNR: 28.58\n",
      "PSNR: 20.69\n",
      "PSNR: 29.48\n",
      "PSNR: 29.29\n",
      "PSNR: 30.47\n",
      "PSNR: 31.30\n",
      "PSNR: 26.09\n",
      "PSNR: 24.05\n",
      "PSNR: 26.18\n",
      "PSNR: 28.99\n",
      "PSNR: 27.62\n",
      "PSNR: 24.31\n",
      "PSNR: 26.67\n",
      "PSNR: 28.09\n",
      "PSNR: 25.57\n",
      "PSNR: 28.02\n",
      "PSNR: 25.00\n",
      "PSNR: 22.18\n",
      "PSNR: 23.35\n",
      "PSNR: 27.35\n",
      "PSNR: 25.11\n",
      "PSNR: 27.92\n",
      "PSNR: 23.53\n",
      "PSNR: 26.16\n",
      "PSNR: 23.51\n",
      "PSNR: 21.47\n",
      "PSNR: 23.30\n",
      "PSNR: 26.62\n",
      "PSNR: 27.27\n",
      "PSNR: 26.67\n",
      "PSNR: 23.40\n",
      "PSNR: 23.54\n",
      "PSNR: 26.53\n",
      "PSNR: 25.06\n",
      "PSNR: 28.76\n",
      "PSNR: 24.82\n",
      "PSNR: 24.53\n",
      "PSNR: 24.66\n",
      "PSNR: 25.82\n",
      "PSNR: 22.66\n",
      "PSNR: 20.39\n",
      "PSNR: 27.74\n",
      "PSNR: 26.21\n",
      "PSNR: 25.34\n",
      "PSNR: 19.79\n",
      "PSNR: 29.51\n",
      "PSNR: 26.02\n",
      "PSNR: 26.40\n",
      "PSNR: 29.04\n",
      "PSNR: 19.78\n",
      "PSNR: 21.85\n",
      "PSNR: 25.30\n",
      "PSNR: 29.48\n",
      "PSNR: 23.48\n",
      "PSNR: 26.21\n",
      "PSNR: 28.43\n",
      "PSNR: 26.91\n",
      "PSNR: 34.98\n",
      "PSNR: 29.13\n",
      "PSNR: 29.46\n",
      "PSNR: 24.11\n",
      "PSNR: 29.20\n",
      "PSNR: 28.17\n",
      "PSNR: 29.97\n",
      "PSNR: 25.71\n",
      "PSNR: 21.78\n",
      "PSNR: 28.37\n",
      "PSNR: 32.26\n",
      "PSNR: 24.62\n",
      "PSNR: 20.62\n",
      "PSNR: 25.69\n",
      "PSNR: 28.89\n",
      "PSNR: 22.49\n",
      "PSNR: 24.09\n",
      "PSNR: 26.15\n",
      "PSNR: 23.54\n",
      "PSNR: 24.84\n",
      "PSNR: 24.95\n",
      "avg_psnr is :26.03\n"
     ]
    }
   ],
   "source": [
    "testdata=\"Urban100\"\n",
    "\n",
    "\n",
    "hrpath=\"../HR/{}/x{}/\".format(testdata,myscale)\n",
    "lrpath=\"../LR/{}/x{}/\".format(testdata,myscale)\n",
    "clrpath=file_name(lrpath)\n",
    "count=len(clrpath)\n",
    "\n",
    "hrpath=\"../HR/{}/x{}/\".format(testdata,myscale)\n",
    "\n",
    "chrpath=file_name(hrpath)\n",
    "\n",
    "count=len(chrpath)\n",
    "print(count)\n",
    "\n",
    "\n",
    "model.eval()\n",
    "sum_psnr=0\n",
    "for i in range(count):\n",
    " #   filename = os.path.join(\"../\"+testdata+\"/\"+c[i])\n",
    "       \n",
    "    sum_psnr += get_psnr(testdata,myscale,i)\n",
    "\n",
    "print(\"avg_psnr is :{:.2f}\".format(sum_psnr/count))"
   ]
  },
  {
   "cell_type": "code",
   "execution_count": null,
   "metadata": {},
   "outputs": [],
   "source": []
  },
  {
   "cell_type": "code",
   "execution_count": null,
   "metadata": {},
   "outputs": [],
   "source": []
  },
  {
   "cell_type": "code",
   "execution_count": null,
   "metadata": {},
   "outputs": [],
   "source": []
  },
  {
   "cell_type": "code",
   "execution_count": null,
   "metadata": {},
   "outputs": [],
   "source": []
  },
  {
   "cell_type": "code",
   "execution_count": null,
   "metadata": {},
   "outputs": [],
   "source": []
  },
  {
   "cell_type": "code",
   "execution_count": null,
   "metadata": {},
   "outputs": [],
   "source": []
  },
  {
   "cell_type": "code",
   "execution_count": null,
   "metadata": {},
   "outputs": [],
   "source": []
  },
  {
   "cell_type": "code",
   "execution_count": null,
   "metadata": {},
   "outputs": [],
   "source": []
  },
  {
   "cell_type": "code",
   "execution_count": null,
   "metadata": {},
   "outputs": [],
   "source": []
  },
  {
   "cell_type": "code",
   "execution_count": null,
   "metadata": {},
   "outputs": [],
   "source": []
  },
  {
   "cell_type": "code",
   "execution_count": null,
   "metadata": {},
   "outputs": [],
   "source": []
  },
  {
   "cell_type": "code",
   "execution_count": null,
   "metadata": {},
   "outputs": [],
   "source": []
  },
  {
   "cell_type": "code",
   "execution_count": null,
   "metadata": {},
   "outputs": [],
   "source": []
  },
  {
   "cell_type": "code",
   "execution_count": 13,
   "metadata": {
    "scrolled": true
   },
   "outputs": [
    {
     "name": "stdout",
     "output_type": "stream",
     "text": [
      "PSNR: 30.63\n",
      "PSNR: 25.66\n",
      "PSNR: 34.00\n",
      "PSNR: 33.36\n",
      "PSNR: 27.44\n",
      "PSNR: 28.82\n",
      "PSNR: 27.34\n",
      "PSNR: 27.23\n",
      "PSNR: 26.26\n"
     ]
    },
    {
     "ename": "KeyboardInterrupt",
     "evalue": "",
     "output_type": "error",
     "traceback": [
      "\u001b[1;31m---------------------------------------------------------------------------\u001b[0m",
      "\u001b[1;31mKeyboardInterrupt\u001b[0m                         Traceback (most recent call last)",
      "\u001b[1;32m<ipython-input-13-c8b6c8869d4f>\u001b[0m in \u001b[0;36m<module>\u001b[1;34m\u001b[0m\n\u001b[0;32m     11\u001b[0m \u001b[1;33m\u001b[0m\u001b[0m\n\u001b[0;32m     12\u001b[0m \u001b[1;33m\u001b[0m\u001b[0m\n\u001b[1;32m---> 13\u001b[1;33m     \u001b[0msum_psnr\u001b[0m \u001b[1;33m+=\u001b[0m \u001b[0mget_psnr\u001b[0m\u001b[1;33m(\u001b[0m\u001b[0mtestdata\u001b[0m\u001b[1;33m,\u001b[0m\u001b[0mmyscale\u001b[0m\u001b[1;33m,\u001b[0m\u001b[0mi\u001b[0m\u001b[1;33m)\u001b[0m\u001b[1;33m\u001b[0m\u001b[1;33m\u001b[0m\u001b[0m\n\u001b[0m\u001b[0;32m     14\u001b[0m \u001b[1;33m\u001b[0m\u001b[0m\n\u001b[0;32m     15\u001b[0m \u001b[0mprint\u001b[0m\u001b[1;33m(\u001b[0m\u001b[1;34m\"psnr is :{:.2f}\"\u001b[0m\u001b[1;33m.\u001b[0m\u001b[0mformat\u001b[0m\u001b[1;33m(\u001b[0m\u001b[0msum_psnr\u001b[0m\u001b[1;33m/\u001b[0m\u001b[0mcount\u001b[0m\u001b[1;33m)\u001b[0m\u001b[1;33m)\u001b[0m\u001b[1;33m\u001b[0m\u001b[1;33m\u001b[0m\u001b[0m\n",
      "\u001b[1;32m<ipython-input-6-24ac6cd6c02b>\u001b[0m in \u001b[0;36mget_psnr\u001b[1;34m(testdata, myscale, picidx)\u001b[0m\n\u001b[0;32m     22\u001b[0m \u001b[1;33m\u001b[0m\u001b[0m\n\u001b[0;32m     23\u001b[0m \u001b[1;33m\u001b[0m\u001b[0m\n\u001b[1;32m---> 24\u001b[1;33m     \u001b[0mlr\u001b[0m \u001b[1;33m=\u001b[0m \u001b[0mpil_image\u001b[0m\u001b[1;33m.\u001b[0m\u001b[0mopen\u001b[0m\u001b[1;33m(\u001b[0m\u001b[0mlrpath\u001b[0m\u001b[1;33m+\u001b[0m\u001b[0mclrpath\u001b[0m\u001b[1;33m[\u001b[0m\u001b[0mpicidx\u001b[0m\u001b[1;33m]\u001b[0m\u001b[1;33m)\u001b[0m\u001b[1;33m.\u001b[0m\u001b[0mconvert\u001b[0m\u001b[1;33m(\u001b[0m\u001b[1;34m'RGB'\u001b[0m\u001b[1;33m)\u001b[0m\u001b[1;33m\u001b[0m\u001b[1;33m\u001b[0m\u001b[0m\n\u001b[0m\u001b[0;32m     25\u001b[0m     \u001b[0mlr\u001b[0m \u001b[1;33m=\u001b[0m \u001b[0mnp\u001b[0m\u001b[1;33m.\u001b[0m\u001b[0marray\u001b[0m\u001b[1;33m(\u001b[0m\u001b[0mlr\u001b[0m\u001b[1;33m)\u001b[0m\u001b[1;33m.\u001b[0m\u001b[0mastype\u001b[0m\u001b[1;33m(\u001b[0m\u001b[0mnp\u001b[0m\u001b[1;33m.\u001b[0m\u001b[0mfloat32\u001b[0m\u001b[1;33m)\u001b[0m\u001b[1;33m\u001b[0m\u001b[1;33m\u001b[0m\u001b[0m\n\u001b[0;32m     26\u001b[0m     \u001b[0mlrycbcr\u001b[0m \u001b[1;33m=\u001b[0m \u001b[0mrgb2ycbcr\u001b[0m\u001b[1;33m(\u001b[0m\u001b[0mlr\u001b[0m\u001b[1;33m)\u001b[0m\u001b[1;33m\u001b[0m\u001b[1;33m\u001b[0m\u001b[0m\n",
      "\u001b[1;32mC:\\ProgramData\\Anaconda3\\lib\\site-packages\\PIL\\Image.py\u001b[0m in \u001b[0;36mopen\u001b[1;34m(fp, mode)\u001b[0m\n\u001b[0;32m   2773\u001b[0m         \u001b[0mexclusive_fp\u001b[0m \u001b[1;33m=\u001b[0m \u001b[1;32mTrue\u001b[0m\u001b[1;33m\u001b[0m\u001b[1;33m\u001b[0m\u001b[0m\n\u001b[0;32m   2774\u001b[0m \u001b[1;33m\u001b[0m\u001b[0m\n\u001b[1;32m-> 2775\u001b[1;33m     \u001b[0mprefix\u001b[0m \u001b[1;33m=\u001b[0m \u001b[0mfp\u001b[0m\u001b[1;33m.\u001b[0m\u001b[0mread\u001b[0m\u001b[1;33m(\u001b[0m\u001b[1;36m16\u001b[0m\u001b[1;33m)\u001b[0m\u001b[1;33m\u001b[0m\u001b[1;33m\u001b[0m\u001b[0m\n\u001b[0m\u001b[0;32m   2776\u001b[0m \u001b[1;33m\u001b[0m\u001b[0m\n\u001b[0;32m   2777\u001b[0m     \u001b[0mpreinit\u001b[0m\u001b[1;33m(\u001b[0m\u001b[1;33m)\u001b[0m\u001b[1;33m\u001b[0m\u001b[1;33m\u001b[0m\u001b[0m\n",
      "\u001b[1;31mKeyboardInterrupt\u001b[0m: "
     ]
    }
   ],
   "source": [
    "myscale = 3\n",
    "for n, p in torch.load(modelname, map_location=lambda storage, loc: storage).items():\n",
    "        if n in state_dict.keys():\n",
    "            state_dict[n].copy_(p)\n",
    "        else:\n",
    "            raise KeyError(n)\n",
    "\n",
    "model.eval()\n",
    "sum_psnr=0\n",
    "for i in range(count):\n",
    "   \n",
    "       \n",
    "    sum_psnr += get_psnr(testdata,myscale,i)\n",
    "\n",
    "print(\"psnr is :{:.2f}\".format(sum_psnr/count))"
   ]
  },
  {
   "cell_type": "code",
   "execution_count": null,
   "metadata": {
    "scrolled": true
   },
   "outputs": [],
   "source": [
    "myscale = 4\n",
    "for n, p in torch.load(modelname, map_location=lambda storage, loc: storage).items():\n",
    "        if n in state_dict.keys():\n",
    "            state_dict[n].copy_(p)\n",
    "        else:\n",
    "            raise KeyError(n)\n",
    "\n",
    "model.eval()\n",
    "sum_psnr=0\n",
    "for i in range(count):\n",
    "      \n",
    "    sum_psnr += get_psnr(testdata,myscale,i)\n",
    "print(\"psnr is :{:.2f}\".format(sum_psnr/count))"
   ]
  },
  {
   "cell_type": "code",
   "execution_count": null,
   "metadata": {},
   "outputs": [],
   "source": []
  },
  {
   "cell_type": "code",
   "execution_count": null,
   "metadata": {},
   "outputs": [],
   "source": []
  },
  {
   "cell_type": "code",
   "execution_count": null,
   "metadata": {},
   "outputs": [],
   "source": []
  },
  {
   "cell_type": "code",
   "execution_count": null,
   "metadata": {},
   "outputs": [],
   "source": []
  },
  {
   "cell_type": "code",
   "execution_count": null,
   "metadata": {},
   "outputs": [],
   "source": []
  }
 ],
 "metadata": {
  "kernelspec": {
   "display_name": "Python 3",
   "language": "python",
   "name": "python3"
  },
  "language_info": {
   "codemirror_mode": {
    "name": "ipython",
    "version": 3
   },
   "file_extension": ".py",
   "mimetype": "text/x-python",
   "name": "python",
   "nbconvert_exporter": "python",
   "pygments_lexer": "ipython3",
   "version": "3.7.4"
  }
 },
 "nbformat": 4,
 "nbformat_minor": 2
}
