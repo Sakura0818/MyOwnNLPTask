{
 "cells": [
  {
   "cell_type": "code",
   "execution_count": 27,
   "metadata": {},
   "outputs": [],
   "source": [
    "import os\n",
    " \n",
    "def file_name(file_dir): \n",
    "    for root, dirs, files in os.walk(file_dir):\n",
    "        #print(root) #当前目录路径\n",
    "        #print(dirs) #当前路径下所有子目录\n",
    "        print(files) #当前路径下所有非目录子文件\n",
    "    return files\n"
   ]
  },
  {
   "cell_type": "markdown",
   "metadata": {},
   "source": [
    "## 控制c 只有需要检测的图片"
   ]
  },
  {
   "cell_type": "code",
   "execution_count": 28,
   "metadata": {},
   "outputs": [
    {
     "name": "stdout",
     "output_type": "stream",
     "text": [
      "['baby_GT.bmp', 'bird_GT.bmp', 'butterfly_GT.bmp', 'head_GT.bmp', 'woman_GT.bmp']\n"
     ]
    }
   ],
   "source": [
    "c=file_name(\"testdata\")"
   ]
  },
  {
   "cell_type": "code",
   "execution_count": 29,
   "metadata": {},
   "outputs": [
    {
     "name": "stdout",
     "output_type": "stream",
     "text": [
      "baby_GT.bmp\n",
      "bird_GT.bmp\n",
      "butterfly_GT.bmp\n",
      "head_GT.bmp\n",
      "woman_GT.bmp\n"
     ]
    }
   ],
   "source": [
    "for i in c:\n",
    "    print(i)"
   ]
  },
  {
   "cell_type": "code",
   "execution_count": 30,
   "metadata": {},
   "outputs": [],
   "source": [
    "import os\n",
    "filename = os.path.join(\"testdata/\"+c[0])"
   ]
  },
  {
   "cell_type": "code",
   "execution_count": 31,
   "metadata": {},
   "outputs": [
    {
     "name": "stdout",
     "output_type": "stream",
     "text": [
      "5\n"
     ]
    }
   ],
   "source": [
    "count=len(c)\n",
    "print(count)"
   ]
  },
  {
   "cell_type": "markdown",
   "metadata": {},
   "source": [
    "# 加载模型"
   ]
  },
  {
   "cell_type": "code",
   "execution_count": 32,
   "metadata": {},
   "outputs": [],
   "source": [
    "import argparse\n",
    "\n",
    "import torch\n",
    "import torch.backends.cudnn as cudnn\n",
    "import numpy as np\n",
    "import PIL.Image as pil_image\n",
    "\n",
    "from temodel import SRCNN\n",
    "from myutils import rgb2ycbcr, ycbcr2rgb, calc_psnr"
   ]
  },
  {
   "cell_type": "code",
   "execution_count": 33,
   "metadata": {},
   "outputs": [],
   "source": [
    "cudnn.benchmark = True\n",
    "device = torch.device('cuda:0' if torch.cuda.is_available() else 'cpu')"
   ]
  },
  {
   "cell_type": "code",
   "execution_count": 34,
   "metadata": {},
   "outputs": [],
   "source": [
    "model = SRCNN().to(device)"
   ]
  },
  {
   "cell_type": "code",
   "execution_count": 35,
   "metadata": {},
   "outputs": [],
   "source": [
    "# state_dict = model.state_dict(torch.load(mydir))\n",
    "\n",
    "state_dict = model.state_dict()"
   ]
  },
  {
   "cell_type": "markdown",
   "metadata": {},
   "source": [
    "# 定义psnr函数"
   ]
  },
  {
   "cell_type": "code",
   "execution_count": 36,
   "metadata": {},
   "outputs": [],
   "source": [
    "def get_psnr(filename,myscale):\n",
    "    scale=myscale\n",
    "    image = pil_image.open(filename).convert('RGB')\n",
    "    image_width = (image.width // scale) * scale\n",
    "    image_height = (image.height // scale) * scale\n",
    "    image = image.resize((image_width, image_height), resample=pil_image.BICUBIC)\n",
    "    image = image.resize((image.width // scale, image.height // scale), resample=pil_image.BICUBIC)\n",
    "    image = image.resize((image.width *  scale, image.height * scale), resample=pil_image.BICUBIC)\n",
    "    image.save(filename.replace('.', '_bicubic_x{}.'.format(scale)))\n",
    "    image = np.array(image).astype(np.float32)\n",
    "    ycbcr = rgb2ycbcr(image)\n",
    "\n",
    "    y = ycbcr[..., 0]\n",
    "    y /= 255.\n",
    "    y = torch.from_numpy(y).to(device)\n",
    "    y = y.unsqueeze(0).unsqueeze(0)\n",
    "\n",
    "    with torch.no_grad():\n",
    "        preds = model(y).clamp(0.0, 1.0)\n",
    "\n",
    "    psnr = calc_psnr(y, preds)\n",
    "\n",
    "    print('PSNR: {:.2f}'.format(psnr))\n",
    "\n",
    "    preds = preds.mul(255.0).cpu().numpy().squeeze(0).squeeze(0)\n",
    "\n",
    "    output = np.array([preds, ycbcr[..., 1], ycbcr[..., 2]]).transpose([1, 2, 0])\n",
    "    output = np.clip(ycbcr2rgb(output), 0.0, 255.0).astype(np.uint8)\n",
    "    output = pil_image.fromarray(output)\n",
    "    output.save(filename.replace('.', '_srcnn_x{}.'.format(scale)))\n",
    "    \n",
    "    return psnr\n"
   ]
  },
  {
   "cell_type": "code",
   "execution_count": null,
   "metadata": {},
   "outputs": [],
   "source": []
  },
  {
   "cell_type": "markdown",
   "metadata": {},
   "source": [
    "# 单独计算psnr"
   ]
  },
  {
   "cell_type": "code",
   "execution_count": 37,
   "metadata": {},
   "outputs": [
    {
     "name": "stdout",
     "output_type": "stream",
     "text": [
      "./model/best.pth\n"
     ]
    }
   ],
   "source": [
    "modelname='./model/best.pth'\n",
    "print(modelname)"
   ]
  },
  {
   "cell_type": "code",
   "execution_count": 38,
   "metadata": {},
   "outputs": [],
   "source": [
    "myscale = 2"
   ]
  },
  {
   "cell_type": "code",
   "execution_count": 39,
   "metadata": {},
   "outputs": [
    {
     "name": "stderr",
     "output_type": "stream",
     "text": [
      "C:\\Users\\Administrator\\AppData\\Local\\Temp\\ipykernel_9860\\2626010551.py:6: DeprecationWarning: BICUBIC is deprecated and will be removed in Pillow 10 (2023-07-01). Use Resampling.BICUBIC instead.\n",
      "  image = image.resize((image_width, image_height), resample=pil_image.BICUBIC)\n",
      "C:\\Users\\Administrator\\AppData\\Local\\Temp\\ipykernel_9860\\2626010551.py:7: DeprecationWarning: BICUBIC is deprecated and will be removed in Pillow 10 (2023-07-01). Use Resampling.BICUBIC instead.\n",
      "  image = image.resize((image.width // scale, image.height // scale), resample=pil_image.BICUBIC)\n",
      "C:\\Users\\Administrator\\AppData\\Local\\Temp\\ipykernel_9860\\2626010551.py:8: DeprecationWarning: BICUBIC is deprecated and will be removed in Pillow 10 (2023-07-01). Use Resampling.BICUBIC instead.\n",
      "  image = image.resize((image.width *  scale, image.height * scale), resample=pil_image.BICUBIC)\n"
     ]
    },
    {
     "name": "stdout",
     "output_type": "stream",
     "text": [
      "PSNR: 41.15\n",
      "PSNR: 38.21\n",
      "PSNR: 29.52\n",
      "PSNR: 41.39\n",
      "PSNR: 34.61\n",
      "psnr is :36.97\n"
     ]
    }
   ],
   "source": [
    "for n, p in torch.load(modelname, map_location=lambda storage, loc: storage).items():\n",
    "        if n in state_dict.keys():\n",
    "            state_dict[n].copy_(p)\n",
    "        else:\n",
    "            raise KeyError(n)\n",
    "\n",
    "model.eval()\n",
    "sum_psnr=0\n",
    "for i in range(count):\n",
    "    filename = os.path.join(\"testdata/\"+c[i])\n",
    "    sum_psnr += get_psnr(filename,myscale)\n",
    "\n",
    "print(\"psnr is :{:.2f}\".format(sum_psnr/count))"
   ]
  },
  {
   "cell_type": "code",
   "execution_count": null,
   "metadata": {},
   "outputs": [],
   "source": []
  },
  {
   "cell_type": "code",
   "execution_count": null,
   "metadata": {},
   "outputs": [],
   "source": []
  },
  {
   "cell_type": "code",
   "execution_count": null,
   "metadata": {},
   "outputs": [],
   "source": []
  },
  {
   "cell_type": "code",
   "execution_count": null,
   "metadata": {},
   "outputs": [],
   "source": []
  },
  {
   "cell_type": "code",
   "execution_count": null,
   "metadata": {},
   "outputs": [],
   "source": []
  },
  {
   "cell_type": "code",
   "execution_count": null,
   "metadata": {},
   "outputs": [],
   "source": []
  },
  {
   "cell_type": "code",
   "execution_count": 16,
   "metadata": {},
   "outputs": [
    {
     "name": "stdout",
     "output_type": "stream",
     "text": [
      "PSNR: 35.47\n",
      "PSNR: 33.39\n",
      "PSNR: 25.81\n",
      "PSNR: 38.94\n",
      "PSNR: 30.05\n",
      "psnr is :32.73\n"
     ]
    }
   ],
   "source": [
    "for n, p in torch.load(modelname, map_location=lambda storage, loc: storage).items():\n",
    "        if n in state_dict.keys():\n",
    "            state_dict[n].copy_(p)\n",
    "        else:\n",
    "            raise KeyError(n)\n",
    "\n",
    "model.eval()\n",
    "sum_psnr=0\n",
    "for i in range(count):\n",
    "    filename = os.path.join(\"testdata/\"+c[i])\n",
    "    sum_psnr += get_psnr(filename,myscale)\n",
    "\n",
    "print(\"psnr is :{:.2f}\".format(sum_psnr/count))"
   ]
  }
 ],
 "metadata": {
  "kernelspec": {
   "display_name": "Python [conda env:swinir]",
   "language": "python",
   "name": "conda-env-swinir-py"
  },
  "language_info": {
   "codemirror_mode": {
    "name": "ipython",
    "version": 3
   },
   "file_extension": ".py",
   "mimetype": "text/x-python",
   "name": "python",
   "nbconvert_exporter": "python",
   "pygments_lexer": "ipython3",
   "version": "3.8.13"
  }
 },
 "nbformat": 4,
 "nbformat_minor": 2
}
