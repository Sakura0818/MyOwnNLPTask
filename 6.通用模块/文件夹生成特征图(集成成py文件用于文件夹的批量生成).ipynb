{
 "cells": [
  {
   "cell_type": "markdown",
   "metadata": {},
   "source": [
    "遍历路径函数"
   ]
  },
  {
   "cell_type": "code",
   "execution_count": 1,
   "metadata": {},
   "outputs": [],
   "source": [
    "\n",
    "# -*- coding: utf-8 -*-  \n",
    "import os  \n",
    "\n",
    "def mylistdir(path, list_name):  #传入存储的list\n",
    "    for file in os.listdir(path):  \n",
    "        file_path = os.path.join(path, file)  \n",
    "        if os.path.isdir(file_path):  \n",
    "            mylistdir(file_path, list_name)  \n",
    "        else:  \n",
    "            list_name.append(file_path)\n"
   ]
  },
  {
   "cell_type": "code",
   "execution_count": 2,
   "metadata": {},
   "outputs": [],
   "source": [
    "mylist=[]\n",
    "mylistdir(\"./Set5\",mylist)"
   ]
  },
  {
   "cell_type": "code",
   "execution_count": 3,
   "metadata": {},
   "outputs": [
    {
     "data": {
      "text/plain": [
       "['./Set5\\\\baby_GT.bmp',\n",
       " './Set5\\\\bird_GT.bmp',\n",
       " './Set5\\\\butterfly_GT.bmp',\n",
       " './Set5\\\\head_GT.bmp',\n",
       " './Set5\\\\woman_GT.bmp']"
      ]
     },
     "execution_count": 3,
     "metadata": {},
     "output_type": "execute_result"
    }
   ],
   "source": [
    "mylist"
   ]
  },
  {
   "cell_type": "code",
   "execution_count": 4,
   "metadata": {},
   "outputs": [
    {
     "data": {
      "text/plain": [
       "5"
      ]
     },
     "execution_count": 4,
     "metadata": {},
     "output_type": "execute_result"
    }
   ],
   "source": [
    "len(mylist)"
   ]
  },
  {
   "cell_type": "code",
   "execution_count": 5,
   "metadata": {},
   "outputs": [
    {
     "data": {
      "text/plain": [
       "'./Set5\\\\baby_GT.bmp'"
      ]
     },
     "execution_count": 5,
     "metadata": {},
     "output_type": "execute_result"
    }
   ],
   "source": [
    "mylist[0]"
   ]
  },
  {
   "cell_type": "markdown",
   "metadata": {},
   "source": [
    "验证路径"
   ]
  },
  {
   "cell_type": "code",
   "execution_count": 6,
   "metadata": {},
   "outputs": [
    {
     "data": {
      "text/plain": [
       "'baby_GT'"
      ]
     },
     "execution_count": 6,
     "metadata": {},
     "output_type": "execute_result"
    }
   ],
   "source": [
    "filename=os.path.split(mylist[0])[-1]\n",
    "os.path.splitext(filename)[0]"
   ]
  },
  {
   "cell_type": "markdown",
   "metadata": {},
   "source": [
    "加载特征图组"
   ]
  },
  {
   "cell_type": "code",
   "execution_count": 7,
   "metadata": {},
   "outputs": [],
   "source": [
    "from ClassGetFeature import Feature"
   ]
  },
  {
   "cell_type": "code",
   "execution_count": 8,
   "metadata": {},
   "outputs": [
    {
     "name": "stdout",
     "output_type": "stream",
     "text": [
      "SRCNN(\n",
      "  (conv1): Conv2d(1, 64, kernel_size=(9, 9), stride=(1, 1), padding=(4, 4))\n",
      "  (conv2): Conv2d(64, 32, kernel_size=(5, 5), stride=(1, 1), padding=(2, 2))\n",
      "  (conv3): Conv2d(32, 1, kernel_size=(5, 5), stride=(1, 1), padding=(2, 2))\n",
      "  (relu): ReLU(inplace=True)\n",
      ")\n"
     ]
    }
   ],
   "source": [
    "a= Feature()"
   ]
  },
  {
   "cell_type": "code",
   "execution_count": 9,
   "metadata": {},
   "outputs": [
    {
     "name": "stdout",
     "output_type": "stream",
     "text": [
      "./Set5\\baby_GT.bmp\n"
     ]
    },
    {
     "name": "stderr",
     "output_type": "stream",
     "text": [
      "E:\\jupyter\\10.重构SRCNN【2022.12.12】\\0.工作台\\4.打印特征图\\ClassGetFeature.py:84: UserWarning: ./save/baby_GT\\0\\34.jpg is a low contrast image\n",
      "  skimage.io.imsave(os.path.join(savepath,str(i),\"{}.jpg\".format(j+1)),saveimg)\n",
      "E:\\jupyter\\10.重构SRCNN【2022.12.12】\\0.工作台\\4.打印特征图\\ClassGetFeature.py:84: UserWarning: ./save/baby_GT\\0\\42.jpg is a low contrast image\n",
      "  skimage.io.imsave(os.path.join(savepath,str(i),\"{}.jpg\".format(j+1)),saveimg)\n",
      "E:\\jupyter\\10.重构SRCNN【2022.12.12】\\0.工作台\\4.打印特征图\\ClassGetFeature.py:84: UserWarning: ./save/baby_GT\\1\\3.jpg is a low contrast image\n",
      "  skimage.io.imsave(os.path.join(savepath,str(i),\"{}.jpg\".format(j+1)),saveimg)\n",
      "E:\\jupyter\\10.重构SRCNN【2022.12.12】\\0.工作台\\4.打印特征图\\ClassGetFeature.py:84: UserWarning: ./save/baby_GT\\1\\9.jpg is a low contrast image\n",
      "  skimage.io.imsave(os.path.join(savepath,str(i),\"{}.jpg\".format(j+1)),saveimg)\n",
      "E:\\jupyter\\10.重构SRCNN【2022.12.12】\\0.工作台\\4.打印特征图\\ClassGetFeature.py:84: UserWarning: ./save/baby_GT\\1\\11.jpg is a low contrast image\n",
      "  skimage.io.imsave(os.path.join(savepath,str(i),\"{}.jpg\".format(j+1)),saveimg)\n",
      "E:\\jupyter\\10.重构SRCNN【2022.12.12】\\0.工作台\\4.打印特征图\\ClassGetFeature.py:84: UserWarning: ./save/baby_GT\\1\\25.jpg is a low contrast image\n",
      "  skimage.io.imsave(os.path.join(savepath,str(i),\"{}.jpg\".format(j+1)),saveimg)\n"
     ]
    },
    {
     "name": "stdout",
     "output_type": "stream",
     "text": [
      "ALL is OK !!!\n",
      "./Set5\\bird_GT.bmp\n"
     ]
    },
    {
     "name": "stderr",
     "output_type": "stream",
     "text": [
      "E:\\jupyter\\10.重构SRCNN【2022.12.12】\\0.工作台\\4.打印特征图\\ClassGetFeature.py:84: UserWarning: ./save/bird_GT\\0\\42.jpg is a low contrast image\n",
      "  skimage.io.imsave(os.path.join(savepath,str(i),\"{}.jpg\".format(j+1)),saveimg)\n",
      "E:\\jupyter\\10.重构SRCNN【2022.12.12】\\0.工作台\\4.打印特征图\\ClassGetFeature.py:84: UserWarning: ./save/bird_GT\\1\\3.jpg is a low contrast image\n",
      "  skimage.io.imsave(os.path.join(savepath,str(i),\"{}.jpg\".format(j+1)),saveimg)\n",
      "E:\\jupyter\\10.重构SRCNN【2022.12.12】\\0.工作台\\4.打印特征图\\ClassGetFeature.py:84: UserWarning: ./save/bird_GT\\1\\9.jpg is a low contrast image\n",
      "  skimage.io.imsave(os.path.join(savepath,str(i),\"{}.jpg\".format(j+1)),saveimg)\n",
      "E:\\jupyter\\10.重构SRCNN【2022.12.12】\\0.工作台\\4.打印特征图\\ClassGetFeature.py:84: UserWarning: ./save/bird_GT\\1\\11.jpg is a low contrast image\n",
      "  skimage.io.imsave(os.path.join(savepath,str(i),\"{}.jpg\".format(j+1)),saveimg)\n",
      "E:\\jupyter\\10.重构SRCNN【2022.12.12】\\0.工作台\\4.打印特征图\\ClassGetFeature.py:84: UserWarning: ./save/bird_GT\\1\\25.jpg is a low contrast image\n",
      "  skimage.io.imsave(os.path.join(savepath,str(i),\"{}.jpg\".format(j+1)),saveimg)\n"
     ]
    },
    {
     "name": "stdout",
     "output_type": "stream",
     "text": [
      "ALL is OK !!!\n",
      "./Set5\\butterfly_GT.bmp\n"
     ]
    },
    {
     "name": "stderr",
     "output_type": "stream",
     "text": [
      "E:\\jupyter\\10.重构SRCNN【2022.12.12】\\0.工作台\\4.打印特征图\\ClassGetFeature.py:84: UserWarning: ./save/butterfly_GT\\1\\3.jpg is a low contrast image\n",
      "  skimage.io.imsave(os.path.join(savepath,str(i),\"{}.jpg\".format(j+1)),saveimg)\n",
      "E:\\jupyter\\10.重构SRCNN【2022.12.12】\\0.工作台\\4.打印特征图\\ClassGetFeature.py:84: UserWarning: ./save/butterfly_GT\\1\\9.jpg is a low contrast image\n",
      "  skimage.io.imsave(os.path.join(savepath,str(i),\"{}.jpg\".format(j+1)),saveimg)\n",
      "E:\\jupyter\\10.重构SRCNN【2022.12.12】\\0.工作台\\4.打印特征图\\ClassGetFeature.py:84: UserWarning: ./save/butterfly_GT\\1\\11.jpg is a low contrast image\n",
      "  skimage.io.imsave(os.path.join(savepath,str(i),\"{}.jpg\".format(j+1)),saveimg)\n"
     ]
    },
    {
     "name": "stdout",
     "output_type": "stream",
     "text": [
      "ALL is OK !!!\n",
      "./Set5\\head_GT.bmp\n"
     ]
    },
    {
     "name": "stderr",
     "output_type": "stream",
     "text": [
      "E:\\jupyter\\10.重构SRCNN【2022.12.12】\\0.工作台\\4.打印特征图\\ClassGetFeature.py:84: UserWarning: ./save/head_GT\\0\\34.jpg is a low contrast image\n",
      "  skimage.io.imsave(os.path.join(savepath,str(i),\"{}.jpg\".format(j+1)),saveimg)\n",
      "E:\\jupyter\\10.重构SRCNN【2022.12.12】\\0.工作台\\4.打印特征图\\ClassGetFeature.py:84: UserWarning: ./save/head_GT\\0\\42.jpg is a low contrast image\n",
      "  skimage.io.imsave(os.path.join(savepath,str(i),\"{}.jpg\".format(j+1)),saveimg)\n",
      "E:\\jupyter\\10.重构SRCNN【2022.12.12】\\0.工作台\\4.打印特征图\\ClassGetFeature.py:84: UserWarning: ./save/head_GT\\1\\3.jpg is a low contrast image\n",
      "  skimage.io.imsave(os.path.join(savepath,str(i),\"{}.jpg\".format(j+1)),saveimg)\n",
      "E:\\jupyter\\10.重构SRCNN【2022.12.12】\\0.工作台\\4.打印特征图\\ClassGetFeature.py:84: UserWarning: ./save/head_GT\\1\\9.jpg is a low contrast image\n",
      "  skimage.io.imsave(os.path.join(savepath,str(i),\"{}.jpg\".format(j+1)),saveimg)\n",
      "E:\\jupyter\\10.重构SRCNN【2022.12.12】\\0.工作台\\4.打印特征图\\ClassGetFeature.py:84: UserWarning: ./save/head_GT\\1\\11.jpg is a low contrast image\n",
      "  skimage.io.imsave(os.path.join(savepath,str(i),\"{}.jpg\".format(j+1)),saveimg)\n"
     ]
    },
    {
     "name": "stdout",
     "output_type": "stream",
     "text": [
      "ALL is OK !!!\n",
      "./Set5\\woman_GT.bmp\n"
     ]
    },
    {
     "name": "stderr",
     "output_type": "stream",
     "text": [
      "E:\\jupyter\\10.重构SRCNN【2022.12.12】\\0.工作台\\4.打印特征图\\ClassGetFeature.py:84: UserWarning: ./save/woman_GT\\0\\34.jpg is a low contrast image\n",
      "  skimage.io.imsave(os.path.join(savepath,str(i),\"{}.jpg\".format(j+1)),saveimg)\n",
      "E:\\jupyter\\10.重构SRCNN【2022.12.12】\\0.工作台\\4.打印特征图\\ClassGetFeature.py:84: UserWarning: ./save/woman_GT\\0\\42.jpg is a low contrast image\n",
      "  skimage.io.imsave(os.path.join(savepath,str(i),\"{}.jpg\".format(j+1)),saveimg)\n",
      "E:\\jupyter\\10.重构SRCNN【2022.12.12】\\0.工作台\\4.打印特征图\\ClassGetFeature.py:84: UserWarning: ./save/woman_GT\\1\\3.jpg is a low contrast image\n",
      "  skimage.io.imsave(os.path.join(savepath,str(i),\"{}.jpg\".format(j+1)),saveimg)\n",
      "E:\\jupyter\\10.重构SRCNN【2022.12.12】\\0.工作台\\4.打印特征图\\ClassGetFeature.py:84: UserWarning: ./save/woman_GT\\1\\9.jpg is a low contrast image\n",
      "  skimage.io.imsave(os.path.join(savepath,str(i),\"{}.jpg\".format(j+1)),saveimg)\n",
      "E:\\jupyter\\10.重构SRCNN【2022.12.12】\\0.工作台\\4.打印特征图\\ClassGetFeature.py:84: UserWarning: ./save/woman_GT\\1\\11.jpg is a low contrast image\n",
      "  skimage.io.imsave(os.path.join(savepath,str(i),\"{}.jpg\".format(j+1)),saveimg)\n"
     ]
    },
    {
     "name": "stdout",
     "output_type": "stream",
     "text": [
      "ALL is OK !!!\n"
     ]
    },
    {
     "name": "stderr",
     "output_type": "stream",
     "text": [
      "E:\\jupyter\\10.重构SRCNN【2022.12.12】\\0.工作台\\4.打印特征图\\ClassGetFeature.py:84: UserWarning: ./save/woman_GT\\1\\25.jpg is a low contrast image\n",
      "  skimage.io.imsave(os.path.join(savepath,str(i),\"{}.jpg\".format(j+1)),saveimg)\n"
     ]
    }
   ],
   "source": [
    "for i in range(len(mylist)):\n",
    "    print(mylist[i])\n",
    "    a.get_feature(mylist[i])"
   ]
  },
  {
   "cell_type": "code",
   "execution_count": null,
   "metadata": {},
   "outputs": [],
   "source": []
  },
  {
   "cell_type": "code",
   "execution_count": null,
   "metadata": {},
   "outputs": [],
   "source": []
  },
  {
   "cell_type": "code",
   "execution_count": null,
   "metadata": {},
   "outputs": [],
   "source": []
  },
  {
   "cell_type": "code",
   "execution_count": null,
   "metadata": {},
   "outputs": [],
   "source": []
  },
  {
   "cell_type": "code",
   "execution_count": null,
   "metadata": {},
   "outputs": [],
   "source": []
  },
  {
   "cell_type": "code",
   "execution_count": null,
   "metadata": {},
   "outputs": [],
   "source": []
  },
  {
   "cell_type": "code",
   "execution_count": null,
   "metadata": {},
   "outputs": [],
   "source": []
  },
  {
   "cell_type": "code",
   "execution_count": null,
   "metadata": {},
   "outputs": [],
   "source": []
  },
  {
   "cell_type": "code",
   "execution_count": null,
   "metadata": {},
   "outputs": [],
   "source": []
  },
  {
   "cell_type": "code",
   "execution_count": null,
   "metadata": {},
   "outputs": [],
   "source": []
  }
 ],
 "metadata": {
  "kernelspec": {
   "display_name": "Python [conda env:swinir]",
   "language": "python",
   "name": "conda-env-swinir-py"
  },
  "language_info": {
   "codemirror_mode": {
    "name": "ipython",
    "version": 3
   },
   "file_extension": ".py",
   "mimetype": "text/x-python",
   "name": "python",
   "nbconvert_exporter": "python",
   "pygments_lexer": "ipython3",
   "version": "3.8.13"
  }
 },
 "nbformat": 4,
 "nbformat_minor": 2
}
