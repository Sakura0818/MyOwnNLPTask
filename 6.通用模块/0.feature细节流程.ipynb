{
 "cells": [
  {
   "cell_type": "code",
   "execution_count": 1,
   "metadata": {},
   "outputs": [],
   "source": [
    "import argparse\n",
    "\n",
    "import torch\n",
    "import torch.backends.cudnn as cudnn\n",
    "import numpy as np\n",
    "import PIL.Image as pil_image\n",
    "\n",
    "from models import SRCNN"
   ]
  },
  {
   "cell_type": "code",
   "execution_count": 2,
   "metadata": {},
   "outputs": [],
   "source": [
    "device = torch.device('cuda:0' if torch.cuda.is_available() else 'cpu')"
   ]
  },
  {
   "cell_type": "code",
   "execution_count": 3,
   "metadata": {},
   "outputs": [],
   "source": [
    "model = SRCNN().to(device)"
   ]
  },
  {
   "cell_type": "code",
   "execution_count": 4,
   "metadata": {},
   "outputs": [],
   "source": [
    "state_dict = model.state_dict()"
   ]
  },
  {
   "cell_type": "code",
   "execution_count": 8,
   "metadata": {},
   "outputs": [
    {
     "name": "stdout",
     "output_type": "stream",
     "text": [
      "SRCNN(\n",
      "  (conv1): Conv2d(1, 64, kernel_size=(9, 9), stride=(1, 1), padding=(4, 4))\n",
      "  (conv2): Conv2d(64, 32, kernel_size=(5, 5), stride=(1, 1), padding=(2, 2))\n",
      "  (conv3): Conv2d(32, 1, kernel_size=(5, 5), stride=(1, 1), padding=(2, 2))\n",
      "  (relu): ReLU(inplace=True)\n",
      ")\n"
     ]
    }
   ],
   "source": [
    "print(model)"
   ]
  },
  {
   "cell_type": "code",
   "execution_count": 9,
   "metadata": {},
   "outputs": [
    {
     "data": {
      "text/plain": [
       "<All keys matched successfully>"
      ]
     },
     "execution_count": 9,
     "metadata": {},
     "output_type": "execute_result"
    }
   ],
   "source": [
    "model.load_state_dict(torch.load(\"srcnn_x2.pth\"))\n",
    "                    "
   ]
  },
  {
   "cell_type": "code",
   "execution_count": 15,
   "metadata": {},
   "outputs": [],
   "source": [
    "def get_picture(pic_name, transform):\n",
    "    img = skimage.io.imread(pic_name,as_gray=True)\n",
    "#     img = skimage.transform.resize(img, (80, 80))\n",
    "    img = np.asarray(img, dtype=np.float32)\n",
    "   \n",
    "    return transform(img)"
   ]
  },
  {
   "cell_type": "code",
   "execution_count": 16,
   "metadata": {},
   "outputs": [],
   "source": [
    "pic_dir = './1.jpg'"
   ]
  },
  {
   "cell_type": "code",
   "execution_count": 17,
   "metadata": {},
   "outputs": [],
   "source": [
    "\n",
    "import os\n",
    "import torch\n",
    "import torchvision as tv\n",
    "import torchvision.transforms as transforms\n",
    "import torch.nn as nn\n",
    "import torch.optim as optim\n",
    "import argparse\n",
    "import skimage.data\n",
    "import skimage.io\n",
    "import skimage.transform\n",
    "import numpy as np\n",
    "import matplotlib.pyplot as plt\n",
    "import torchvision.models as models\n",
    "from PIL import Image"
   ]
  },
  {
   "cell_type": "code",
   "execution_count": 18,
   "metadata": {},
   "outputs": [],
   "source": [
    "transform = transforms.ToTensor()"
   ]
  },
  {
   "cell_type": "code",
   "execution_count": 19,
   "metadata": {},
   "outputs": [],
   "source": [
    "img = get_picture(pic_dir, transform)"
   ]
  },
  {
   "cell_type": "code",
   "execution_count": 20,
   "metadata": {},
   "outputs": [
    {
     "data": {
      "text/plain": [
       "torch.Size([1, 512, 512])"
      ]
     },
     "execution_count": 20,
     "metadata": {},
     "output_type": "execute_result"
    }
   ],
   "source": [
    "img.shape"
   ]
  },
  {
   "cell_type": "code",
   "execution_count": 21,
   "metadata": {},
   "outputs": [
    {
     "data": {
      "text/plain": [
       "tensor([[[0.9936, 0.9936, 0.9936,  ..., 0.9961, 0.9961, 0.9961],\n",
       "         [0.9936, 0.9936, 0.9936,  ..., 0.9961, 0.9961, 0.9961],\n",
       "         [0.9936, 0.9936, 0.9936,  ..., 0.9961, 0.9961, 0.9961],\n",
       "         ...,\n",
       "         [0.2430, 0.2743, 0.2785,  ..., 0.2700, 0.2700, 0.2700],\n",
       "         [0.2082, 0.2239, 0.2290,  ..., 0.2751, 0.2740, 0.2740],\n",
       "         [0.1895, 0.2015, 0.2054,  ..., 0.2818, 0.2818, 0.2779]]])"
      ]
     },
     "execution_count": 21,
     "metadata": {},
     "output_type": "execute_result"
    }
   ],
   "source": [
    "img"
   ]
  },
  {
   "cell_type": "code",
   "execution_count": 22,
   "metadata": {},
   "outputs": [],
   "source": [
    "img = img.unsqueeze(0)\n",
    "#降维"
   ]
  },
  {
   "cell_type": "code",
   "execution_count": 23,
   "metadata": {},
   "outputs": [],
   "source": [
    "img = img.to(device)"
   ]
  },
  {
   "cell_type": "code",
   "execution_count": 24,
   "metadata": {},
   "outputs": [
    {
     "data": {
      "text/plain": [
       "torch.Size([1, 1, 512, 512])"
      ]
     },
     "execution_count": 24,
     "metadata": {},
     "output_type": "execute_result"
    }
   ],
   "source": [
    "img.shape"
   ]
  },
  {
   "cell_type": "code",
   "execution_count": 25,
   "metadata": {},
   "outputs": [],
   "source": [
    "out_put=model(img)\n"
   ]
  },
  {
   "cell_type": "code",
   "execution_count": 26,
   "metadata": {},
   "outputs": [
    {
     "data": {
      "text/plain": [
       "3"
      ]
     },
     "execution_count": 26,
     "metadata": {},
     "output_type": "execute_result"
    }
   ],
   "source": [
    "len(out_put)"
   ]
  },
  {
   "cell_type": "code",
   "execution_count": 27,
   "metadata": {},
   "outputs": [
    {
     "data": {
      "text/plain": [
       "torch.Size([1, 64, 512, 512])"
      ]
     },
     "execution_count": 27,
     "metadata": {},
     "output_type": "execute_result"
    }
   ],
   "source": [
    "out_put[0].shape"
   ]
  },
  {
   "cell_type": "code",
   "execution_count": 28,
   "metadata": {},
   "outputs": [],
   "source": [
    "savepath='./save'+pic_dir[1:]"
   ]
  },
  {
   "cell_type": "code",
   "execution_count": 29,
   "metadata": {},
   "outputs": [
    {
     "data": {
      "text/plain": [
       "'./save/1.jpg'"
      ]
     },
     "execution_count": 29,
     "metadata": {},
     "output_type": "execute_result"
    }
   ],
   "source": [
    "savepath"
   ]
  },
  {
   "cell_type": "code",
   "execution_count": 30,
   "metadata": {},
   "outputs": [],
   "source": [
    "if not os.path.exists(savepath):\n",
    "    os.mkdir(savepath)"
   ]
  },
  {
   "cell_type": "code",
   "execution_count": 31,
   "metadata": {},
   "outputs": [],
   "source": [
    "import os"
   ]
  },
  {
   "cell_type": "code",
   "execution_count": 32,
   "metadata": {},
   "outputs": [
    {
     "data": {
      "text/plain": [
       "'./save/1.jpg\\\\1'"
      ]
     },
     "execution_count": 32,
     "metadata": {},
     "output_type": "execute_result"
    }
   ],
   "source": [
    "os.path.join(savepath,str(1))"
   ]
  },
  {
   "cell_type": "code",
   "execution_count": null,
   "metadata": {},
   "outputs": [],
   "source": []
  },
  {
   "cell_type": "code",
   "execution_count": null,
   "metadata": {},
   "outputs": [],
   "source": []
  },
  {
   "cell_type": "code",
   "execution_count": 33,
   "metadata": {},
   "outputs": [],
   "source": [
    "# i=1\n",
    "# j=2\n",
    "# os.path.join(savepath,str(i),str(j))"
   ]
  },
  {
   "cell_type": "code",
   "execution_count": 34,
   "metadata": {},
   "outputs": [
    {
     "name": "stdout",
     "output_type": "stream",
     "text": [
      "0\n",
      "2\n",
      "(512, 512, 1)\n",
      "2\n",
      "(512, 512, 1)\n",
      "2\n",
      "(512, 512, 1)\n",
      "2\n",
      "(512, 512, 1)\n",
      "2\n",
      "(512, 512, 1)\n",
      "2\n",
      "(512, 512, 1)\n",
      "2\n",
      "(512, 512, 1)\n",
      "2\n",
      "(512, 512, 1)\n",
      "2\n",
      "(512, 512, 1)\n",
      "2\n",
      "(512, 512, 1)\n",
      "2\n",
      "(512, 512, 1)\n",
      "2\n",
      "(512, 512, 1)\n",
      "2\n",
      "(512, 512, 1)\n",
      "2\n",
      "(512, 512, 1)\n",
      "2\n",
      "(512, 512, 1)\n",
      "2\n",
      "(512, 512, 1)\n",
      "2\n",
      "(512, 512, 1)\n",
      "2\n",
      "(512, 512, 1)\n",
      "2\n",
      "(512, 512, 1)\n",
      "2\n",
      "(512, 512, 1)\n",
      "2\n",
      "(512, 512, 1)\n",
      "2\n",
      "(512, 512, 1)\n",
      "2\n",
      "(512, 512, 1)\n",
      "2\n",
      "(512, 512, 1)\n",
      "2\n",
      "(512, 512, 1)\n",
      "2\n",
      "(512, 512, 1)\n",
      "2\n",
      "(512, 512, 1)\n",
      "2\n",
      "(512, 512, 1)\n",
      "2\n",
      "(512, 512, 1)\n",
      "2\n",
      "(512, 512, 1)\n",
      "2\n",
      "(512, 512, 1)\n",
      "2\n",
      "(512, 512, 1)\n",
      "2\n",
      "(512, 512, 1)\n",
      "2\n",
      "(512, 512, 1)\n",
      "2\n",
      "(512, 512, 1)\n",
      "2\n",
      "(512, 512, 1)\n",
      "2\n",
      "(512, 512, 1)\n",
      "2\n",
      "(512, 512, 1)\n",
      "2\n",
      "(512, 512, 1)\n",
      "2\n",
      "(512, 512, 1)\n",
      "2\n",
      "(512, 512, 1)\n",
      "2\n",
      "(512, 512, 1)\n",
      "2\n",
      "(512, 512, 1)\n",
      "2\n",
      "(512, 512, 1)\n",
      "2\n",
      "(512, 512, 1)\n",
      "2\n",
      "(512, 512, 1)\n",
      "2\n",
      "(512, 512, 1)\n",
      "2\n",
      "(512, 512, 1)\n",
      "2\n",
      "(512, 512, 1)\n",
      "2\n",
      "(512, 512, 1)\n",
      "2\n",
      "(512, 512, 1)\n"
     ]
    },
    {
     "name": "stderr",
     "output_type": "stream",
     "text": [
      "C:\\Users\\Administrator\\AppData\\Local\\Temp\\ipykernel_36968\\945361891.py:21: UserWarning: ./save/1.jpg\\0\\34.jpg is a low contrast image\n",
      "  skimage.io.imsave(os.path.join(savepath,str(i),\"{}.jpg\".format(j+1)),saveimg)\n",
      "C:\\Users\\Administrator\\AppData\\Local\\Temp\\ipykernel_36968\\945361891.py:21: UserWarning: ./save/1.jpg\\0\\42.jpg is a low contrast image\n",
      "  skimage.io.imsave(os.path.join(savepath,str(i),\"{}.jpg\".format(j+1)),saveimg)\n"
     ]
    },
    {
     "name": "stdout",
     "output_type": "stream",
     "text": [
      "2\n",
      "(512, 512, 1)\n",
      "2\n",
      "(512, 512, 1)\n",
      "2\n",
      "(512, 512, 1)\n",
      "2\n",
      "(512, 512, 1)\n",
      "2\n",
      "(512, 512, 1)\n",
      "2\n",
      "(512, 512, 1)\n",
      "2\n",
      "(512, 512, 1)\n",
      "2\n",
      "(512, 512, 1)\n",
      "2\n",
      "(512, 512, 1)\n",
      "2\n",
      "(512, 512, 1)\n",
      "2\n",
      "(512, 512, 1)\n",
      "2\n",
      "(512, 512, 1)\n",
      "2\n",
      "(512, 512, 1)\n",
      "1\n",
      "2\n",
      "(512, 512, 1)\n",
      "2\n",
      "(512, 512, 1)\n",
      "2\n",
      "(512, 512, 1)\n",
      "2\n",
      "(512, 512, 1)\n",
      "2\n",
      "(512, 512, 1)\n",
      "2\n",
      "(512, 512, 1)\n",
      "2\n",
      "(512, 512, 1)\n",
      "2\n",
      "(512, 512, 1)\n",
      "2\n",
      "(512, 512, 1)\n",
      "2\n",
      "(512, 512, 1)\n"
     ]
    },
    {
     "name": "stderr",
     "output_type": "stream",
     "text": [
      "C:\\Users\\Administrator\\AppData\\Local\\Temp\\ipykernel_36968\\945361891.py:21: UserWarning: ./save/1.jpg\\1\\3.jpg is a low contrast image\n",
      "  skimage.io.imsave(os.path.join(savepath,str(i),\"{}.jpg\".format(j+1)),saveimg)\n",
      "C:\\Users\\Administrator\\AppData\\Local\\Temp\\ipykernel_36968\\945361891.py:21: UserWarning: ./save/1.jpg\\1\\9.jpg is a low contrast image\n",
      "  skimage.io.imsave(os.path.join(savepath,str(i),\"{}.jpg\".format(j+1)),saveimg)\n",
      "C:\\Users\\Administrator\\AppData\\Local\\Temp\\ipykernel_36968\\945361891.py:21: UserWarning: ./save/1.jpg\\1\\11.jpg is a low contrast image\n",
      "  skimage.io.imsave(os.path.join(savepath,str(i),\"{}.jpg\".format(j+1)),saveimg)\n",
      "C:\\Users\\Administrator\\AppData\\Local\\Temp\\ipykernel_36968\\945361891.py:21: UserWarning: ./save/1.jpg\\1\\25.jpg is a low contrast image\n",
      "  skimage.io.imsave(os.path.join(savepath,str(i),\"{}.jpg\".format(j+1)),saveimg)\n"
     ]
    },
    {
     "name": "stdout",
     "output_type": "stream",
     "text": [
      "2\n",
      "(512, 512, 1)\n",
      "2\n",
      "(512, 512, 1)\n",
      "2\n",
      "(512, 512, 1)\n",
      "2\n",
      "(512, 512, 1)\n",
      "2\n",
      "(512, 512, 1)\n",
      "2\n",
      "(512, 512, 1)\n",
      "2\n",
      "(512, 512, 1)\n",
      "2\n",
      "(512, 512, 1)\n",
      "2\n",
      "(512, 512, 1)\n",
      "2\n",
      "(512, 512, 1)\n",
      "2\n",
      "(512, 512, 1)\n",
      "2\n",
      "(512, 512, 1)\n",
      "2\n",
      "(512, 512, 1)\n",
      "2\n",
      "(512, 512, 1)\n",
      "2\n",
      "(512, 512, 1)\n",
      "2\n",
      "(512, 512, 1)\n",
      "2\n",
      "(512, 512, 1)\n",
      "2\n",
      "(512, 512, 1)\n",
      "2\n",
      "(512, 512, 1)\n",
      "2\n",
      "(512, 512, 1)\n",
      "2\n",
      "(512, 512, 1)\n",
      "2\n",
      "(512, 512, 1)\n",
      "2\n",
      "2\n",
      "(512, 512, 1)\n"
     ]
    }
   ],
   "source": [
    "for i in range(len(out_put)):\n",
    "    print(i)\n",
    "    myimgs=out_put[i].detach().cpu().numpy()\n",
    "    im = np.squeeze(myimgs)\n",
    "    \n",
    "    if not os.path.exists(os.path.join(savepath,str(i))):\n",
    "        os.mkdir(os.path.join(savepath,str(i)))\n",
    "\n",
    "    if(im.ndim == 2):\n",
    "        im = np.expand_dims(im,axis = 0)\n",
    "    im=np.transpose(im,[1,2,0])\n",
    "    for j in range(im.shape[2]):\n",
    "       \n",
    "        saveimg = im[:,:,j]\n",
    "        print(saveimg.ndim)\n",
    "        if saveimg.ndim==2:\n",
    "            saveimg = np.expand_dims(saveimg,axis = 2)\n",
    "        print(saveimg.shape)\n",
    "        saveimg*=255.0\n",
    "        saveimg=saveimg.astype('uint8')\n",
    "        skimage.io.imsave(os.path.join(savepath,str(i),\"{}.jpg\".format(j+1)),saveimg)\n",
    "    "
   ]
  },
  {
   "cell_type": "code",
   "execution_count": null,
   "metadata": {},
   "outputs": [],
   "source": []
  },
  {
   "cell_type": "code",
   "execution_count": null,
   "metadata": {},
   "outputs": [],
   "source": []
  },
  {
   "cell_type": "code",
   "execution_count": null,
   "metadata": {},
   "outputs": [],
   "source": []
  },
  {
   "cell_type": "code",
   "execution_count": 35,
   "metadata": {},
   "outputs": [
    {
     "name": "stdout",
     "output_type": "stream",
     "text": [
      "torch.Size([1, 64, 512, 512])\n",
      "torch.Size([1, 32, 512, 512])\n",
      "torch.Size([1, 1, 512, 512])\n"
     ]
    }
   ],
   "source": [
    "for feature_map in out_put:\n",
    "    print(feature_map.shape)"
   ]
  },
  {
   "cell_type": "code",
   "execution_count": 36,
   "metadata": {
    "scrolled": false
   },
   "outputs": [
    {
     "name": "stdout",
     "output_type": "stream",
     "text": [
      "(512, 512, 64)\n",
      "(512, 512, 32)\n",
      "(512, 512, 1)\n"
     ]
    }
   ],
   "source": [
    "for feature_map in out_put:\n",
    "    \n",
    "    im = np.squeeze(feature_map.detach().cpu().numpy())\n",
    "#     print(im.shape)\n",
    "#     print(im.ndim)\n",
    "    \n",
    "#     ckp=12\n",
    "    if(im.ndim == 2):\n",
    "        im = np.expand_dims(im,axis = 0)\n",
    "#         ckp=1\n",
    "        \n",
    "        \n",
    "#         print(\"666\")\n",
    "#     print(im.ndim)\n",
    "    im=np.transpose(im,[1,2,0])\n",
    "    \n",
    "#     plt.figure(figsize=(10,10),dpi=80)\n",
    "    \n",
    "#     for i in range(ckp):\n",
    "#         ax = plt.subplot(3,4,i+1)\n",
    "        \n",
    "#         plt.imshow(im[:,:,i],cmap='gray')\n",
    "#     plt.show()\n",
    "    print(im.shape)\n",
    "    "
   ]
  },
  {
   "cell_type": "code",
   "execution_count": 37,
   "metadata": {},
   "outputs": [
    {
     "name": "stdout",
     "output_type": "stream",
     "text": [
      "tensor([[[[0.9936, 0.9936, 0.9936,  ..., 0.9961, 0.9961, 0.9961],\n",
      "          [0.9936, 0.9936, 0.9936,  ..., 0.9961, 0.9961, 0.9961],\n",
      "          [0.9936, 0.9936, 0.9936,  ..., 0.9961, 0.9961, 0.9961],\n",
      "          ...,\n",
      "          [0.2430, 0.2743, 0.2785,  ..., 0.2700, 0.2700, 0.2700],\n",
      "          [0.2082, 0.2239, 0.2290,  ..., 0.2751, 0.2740, 0.2740],\n",
      "          [0.1895, 0.2015, 0.2054,  ..., 0.2818, 0.2818, 0.2779]]]],\n",
      "       device='cuda:0')\n"
     ]
    }
   ],
   "source": [
    "print(img)"
   ]
  },
  {
   "cell_type": "code",
   "execution_count": 38,
   "metadata": {},
   "outputs": [
    {
     "data": {
      "text/plain": [
       "torch.Size([1, 1, 512, 512])"
      ]
     },
     "execution_count": 38,
     "metadata": {},
     "output_type": "execute_result"
    }
   ],
   "source": [
    "img.shape"
   ]
  },
  {
   "cell_type": "code",
   "execution_count": 39,
   "metadata": {},
   "outputs": [
    {
     "data": {
      "text/plain": [
       "4"
      ]
     },
     "execution_count": 39,
     "metadata": {},
     "output_type": "execute_result"
    }
   ],
   "source": [
    "img.ndim"
   ]
  },
  {
   "cell_type": "code",
   "execution_count": null,
   "metadata": {},
   "outputs": [],
   "source": []
  },
  {
   "cell_type": "code",
   "execution_count": 40,
   "metadata": {
    "scrolled": true
   },
   "outputs": [
    {
     "name": "stdout",
     "output_type": "stream",
     "text": [
      "[tensor([[[[0.0000e+00, 1.4983e-01, 0.0000e+00,  ..., 0.0000e+00,\n",
      "           0.0000e+00, 0.0000e+00],\n",
      "          [2.3349e-01, 4.8107e-01, 3.4297e-02,  ..., 0.0000e+00,\n",
      "           0.0000e+00, 5.9717e-02],\n",
      "          [9.7549e-02, 3.6832e-01, 0.0000e+00,  ..., 0.0000e+00,\n",
      "           0.0000e+00, 1.4909e-01],\n",
      "          ...,\n",
      "          [9.0966e-02, 1.2797e-01, 1.7747e-02,  ..., 0.0000e+00,\n",
      "           0.0000e+00, 0.0000e+00],\n",
      "          [1.4201e-01, 1.7577e-01, 1.0893e-01,  ..., 1.0447e-01,\n",
      "           1.1548e-01, 3.9530e-02],\n",
      "          [7.5952e-02, 1.0461e-01, 6.0242e-02,  ..., 1.5057e-02,\n",
      "           2.8494e-02, 0.0000e+00]],\n",
      "\n",
      "         [[0.0000e+00, 0.0000e+00, 1.4228e-01,  ..., 8.9110e-02,\n",
      "           0.0000e+00, 1.3672e-01],\n",
      "          [0.0000e+00, 0.0000e+00, 1.9560e-01,  ..., 2.3434e-02,\n",
      "           0.0000e+00, 1.0877e-01],\n",
      "          [0.0000e+00, 0.0000e+00, 0.0000e+00,  ..., 0.0000e+00,\n",
      "           0.0000e+00, 0.0000e+00],\n",
      "          ...,\n",
      "          [5.6676e-03, 1.1646e-01, 1.8820e-01,  ..., 1.2016e-01,\n",
      "           1.4578e-01, 1.7495e-01],\n",
      "          [5.7752e-03, 8.7830e-02, 1.3461e-01,  ..., 1.3099e-01,\n",
      "           1.7324e-01, 1.7707e-01],\n",
      "          [2.9371e-02, 5.9790e-02, 5.9613e-02,  ..., 2.5624e-02,\n",
      "           6.1988e-02, 4.6690e-02]],\n",
      "\n",
      "         [[0.0000e+00, 0.0000e+00, 0.0000e+00,  ..., 0.0000e+00,\n",
      "           0.0000e+00, 0.0000e+00],\n",
      "          [0.0000e+00, 0.0000e+00, 0.0000e+00,  ..., 0.0000e+00,\n",
      "           1.7795e-02, 2.1059e-01],\n",
      "          [0.0000e+00, 0.0000e+00, 0.0000e+00,  ..., 0.0000e+00,\n",
      "           0.0000e+00, 1.4348e-01],\n",
      "          ...,\n",
      "          [1.4589e-01, 7.0292e-02, 7.6261e-02,  ..., 0.0000e+00,\n",
      "           8.0150e-03, 1.4457e-02],\n",
      "          [1.4670e-01, 6.0252e-02, 7.7212e-02,  ..., 0.0000e+00,\n",
      "           4.0191e-02, 0.0000e+00],\n",
      "          [1.1497e-01, 3.3108e-02, 1.4941e-02,  ..., 0.0000e+00,\n",
      "           2.4106e-02, 0.0000e+00]],\n",
      "\n",
      "         ...,\n",
      "\n",
      "         [[0.0000e+00, 2.6801e-01, 3.0942e-01,  ..., 1.5625e-01,\n",
      "           2.3397e-01, 2.9715e-01],\n",
      "          [0.0000e+00, 5.1536e-01, 6.7094e-01,  ..., 4.8927e-01,\n",
      "           4.6266e-01, 6.9632e-01],\n",
      "          [0.0000e+00, 2.2439e-01, 2.6885e-01,  ..., 3.2484e-01,\n",
      "           1.9396e-01, 3.8228e-01],\n",
      "          ...,\n",
      "          [0.0000e+00, 0.0000e+00, 0.0000e+00,  ..., 0.0000e+00,\n",
      "           0.0000e+00, 0.0000e+00],\n",
      "          [0.0000e+00, 0.0000e+00, 0.0000e+00,  ..., 0.0000e+00,\n",
      "           0.0000e+00, 5.5981e-03],\n",
      "          [0.0000e+00, 0.0000e+00, 0.0000e+00,  ..., 4.1006e-02,\n",
      "           4.3649e-02, 6.4091e-02]],\n",
      "\n",
      "         [[2.5946e-01, 2.9541e-01, 4.0549e-01,  ..., 5.5719e-01,\n",
      "           8.4140e-02, 1.9650e-01],\n",
      "          [3.0715e-01, 3.2749e-01, 4.1875e-01,  ..., 5.0570e-01,\n",
      "           0.0000e+00, 9.7597e-02],\n",
      "          [8.2299e-02, 5.3427e-04, 0.0000e+00,  ..., 1.8190e-01,\n",
      "           0.0000e+00, 1.1413e-01],\n",
      "          ...,\n",
      "          [0.0000e+00, 0.0000e+00, 0.0000e+00,  ..., 0.0000e+00,\n",
      "           0.0000e+00, 0.0000e+00],\n",
      "          [0.0000e+00, 0.0000e+00, 0.0000e+00,  ..., 0.0000e+00,\n",
      "           0.0000e+00, 0.0000e+00],\n",
      "          [0.0000e+00, 0.0000e+00, 0.0000e+00,  ..., 0.0000e+00,\n",
      "           0.0000e+00, 0.0000e+00]],\n",
      "\n",
      "         [[0.0000e+00, 0.0000e+00, 2.9039e-01,  ..., 1.9928e-01,\n",
      "           0.0000e+00, 0.0000e+00],\n",
      "          [0.0000e+00, 0.0000e+00, 2.8115e-01,  ..., 2.8085e-01,\n",
      "           0.0000e+00, 0.0000e+00],\n",
      "          [0.0000e+00, 0.0000e+00, 1.5614e-01,  ..., 2.2757e-01,\n",
      "           0.0000e+00, 0.0000e+00],\n",
      "          ...,\n",
      "          [0.0000e+00, 0.0000e+00, 0.0000e+00,  ..., 0.0000e+00,\n",
      "           0.0000e+00, 0.0000e+00],\n",
      "          [0.0000e+00, 0.0000e+00, 0.0000e+00,  ..., 0.0000e+00,\n",
      "           0.0000e+00, 0.0000e+00],\n",
      "          [0.0000e+00, 0.0000e+00, 0.0000e+00,  ..., 0.0000e+00,\n",
      "           0.0000e+00, 0.0000e+00]]]], device='cuda:0',\n",
      "       grad_fn=<ReluBackward0>), tensor([[[[0.0000e+00, 1.2889e-02, 4.5997e-02,  ..., 0.0000e+00,\n",
      "           0.0000e+00, 0.0000e+00],\n",
      "          [1.1048e-01, 2.9574e-01, 1.3317e-01,  ..., 3.0999e-01,\n",
      "           1.3260e-01, 0.0000e+00],\n",
      "          [1.3086e-01, 2.9861e-01, 2.7340e-01,  ..., 2.6704e-01,\n",
      "           2.8231e-01, 0.0000e+00],\n",
      "          ...,\n",
      "          [4.1645e-02, 0.0000e+00, 0.0000e+00,  ..., 0.0000e+00,\n",
      "           2.9725e-03, 0.0000e+00],\n",
      "          [8.8646e-02, 9.6290e-02, 0.0000e+00,  ..., 0.0000e+00,\n",
      "           0.0000e+00, 0.0000e+00],\n",
      "          [4.7081e-02, 0.0000e+00, 0.0000e+00,  ..., 0.0000e+00,\n",
      "           0.0000e+00, 0.0000e+00]],\n",
      "\n",
      "         [[7.4532e-01, 1.2149e+00, 1.1113e+00,  ..., 1.1133e+00,\n",
      "           1.0625e+00, 3.0575e-01],\n",
      "          [1.5702e-01, 3.2975e-01, 2.4304e-01,  ..., 3.4053e-01,\n",
      "           7.5472e-01, 2.8736e-01],\n",
      "          [2.1182e-01, 2.9537e-01, 3.0772e-01,  ..., 2.7398e-01,\n",
      "           6.9215e-01, 2.1942e-01],\n",
      "          ...,\n",
      "          [1.4515e-02, 0.0000e+00, 1.2513e-03,  ..., 4.3798e-02,\n",
      "           5.3357e-02, 1.0415e-01],\n",
      "          [0.0000e+00, 0.0000e+00, 0.0000e+00,  ..., 3.3836e-02,\n",
      "           9.8292e-02, 1.7000e-01],\n",
      "          [0.0000e+00, 4.2141e-03, 2.3913e-02,  ..., 1.7521e-01,\n",
      "           2.3703e-01, 2.4075e-02]],\n",
      "\n",
      "         [[0.0000e+00, 0.0000e+00, 0.0000e+00,  ..., 0.0000e+00,\n",
      "           0.0000e+00, 0.0000e+00],\n",
      "          [0.0000e+00, 0.0000e+00, 0.0000e+00,  ..., 0.0000e+00,\n",
      "           0.0000e+00, 0.0000e+00],\n",
      "          [0.0000e+00, 0.0000e+00, 0.0000e+00,  ..., 0.0000e+00,\n",
      "           0.0000e+00, 0.0000e+00],\n",
      "          ...,\n",
      "          [0.0000e+00, 0.0000e+00, 0.0000e+00,  ..., 0.0000e+00,\n",
      "           0.0000e+00, 0.0000e+00],\n",
      "          [0.0000e+00, 0.0000e+00, 0.0000e+00,  ..., 0.0000e+00,\n",
      "           0.0000e+00, 0.0000e+00],\n",
      "          [0.0000e+00, 0.0000e+00, 0.0000e+00,  ..., 0.0000e+00,\n",
      "           0.0000e+00, 0.0000e+00]],\n",
      "\n",
      "         ...,\n",
      "\n",
      "         [[6.2136e-01, 5.6315e-01, 3.5687e-01,  ..., 1.6237e-01,\n",
      "           4.7348e-01, 3.7651e-01],\n",
      "          [1.2027e+00, 3.5720e-01, 1.9155e-01,  ..., 2.1920e-01,\n",
      "           3.5617e-01, 5.1487e-01],\n",
      "          [7.8519e-01, 3.4250e-01, 0.0000e+00,  ..., 0.0000e+00,\n",
      "           0.0000e+00, 0.0000e+00],\n",
      "          ...,\n",
      "          [2.2406e-01, 9.0592e-02, 0.0000e+00,  ..., 0.0000e+00,\n",
      "           0.0000e+00, 0.0000e+00],\n",
      "          [1.5428e-01, 6.0852e-02, 0.0000e+00,  ..., 0.0000e+00,\n",
      "           0.0000e+00, 0.0000e+00],\n",
      "          [1.7092e-01, 0.0000e+00, 0.0000e+00,  ..., 0.0000e+00,\n",
      "           0.0000e+00, 0.0000e+00]],\n",
      "\n",
      "         [[1.5223e+00, 3.4130e+00, 2.6914e+00,  ..., 2.3702e+00,\n",
      "           2.6091e+00, 1.7464e+00],\n",
      "          [9.1754e-01, 3.4004e+00, 2.8773e+00,  ..., 2.4541e+00,\n",
      "           2.6552e+00, 2.6269e+00],\n",
      "          [4.6633e-01, 2.6900e+00, 1.8366e+00,  ..., 1.6067e+00,\n",
      "           1.6441e+00, 2.0423e+00],\n",
      "          ...,\n",
      "          [8.6093e-02, 6.9827e-01, 5.1216e-01,  ..., 6.2990e-01,\n",
      "           5.5848e-01, 5.5381e-01],\n",
      "          [2.0930e-01, 7.2992e-01, 4.9367e-01,  ..., 7.3365e-01,\n",
      "           5.6859e-01, 4.8233e-01],\n",
      "          [6.3672e-02, 2.7751e-01, 2.5703e-01,  ..., 4.5097e-01,\n",
      "           1.9540e-01, 1.0995e-01]],\n",
      "\n",
      "         [[2.1934e-02, 1.1744e-01, 5.0537e-01,  ..., 6.8869e-01,\n",
      "           4.6374e-01, 0.0000e+00],\n",
      "          [1.4137e-01, 2.7893e-01, 5.7124e-01,  ..., 9.7080e-01,\n",
      "           4.2753e-01, 0.0000e+00],\n",
      "          [6.4701e-01, 9.6151e-01, 1.2834e+00,  ..., 1.5879e+00,\n",
      "           1.1531e+00, 1.9392e-02],\n",
      "          ...,\n",
      "          [1.8569e-01, 1.1442e-01, 1.8298e-01,  ..., 3.7174e-01,\n",
      "           2.2338e-01, 0.0000e+00],\n",
      "          [1.3171e-01, 1.2939e-01, 2.2223e-01,  ..., 3.9611e-01,\n",
      "           2.3559e-01, 5.6378e-02],\n",
      "          [6.4537e-02, 3.8980e-02, 5.0218e-02,  ..., 1.2983e-01,\n",
      "           6.2573e-02, 0.0000e+00]]]], device='cuda:0',\n",
      "       grad_fn=<ReluBackward0>), tensor([[[[0.9962, 0.9949, 0.9867,  ..., 0.9937, 0.9805, 0.9909],\n",
      "          [0.9853, 0.9873, 0.9938,  ..., 1.0022, 0.9934, 0.9977],\n",
      "          [0.9894, 0.9935, 0.9980,  ..., 0.9958, 0.9966, 0.9944],\n",
      "          ...,\n",
      "          [0.2575, 0.3219, 0.2871,  ..., 0.2674, 0.2695, 0.2548],\n",
      "          [0.1937, 0.2452, 0.2467,  ..., 0.2768, 0.2820, 0.2710],\n",
      "          [0.1828, 0.1822, 0.1689,  ..., 0.2911, 0.2897, 0.2792]]]],\n",
      "       device='cuda:0', grad_fn=<ConvolutionBackward0>)]\n"
     ]
    }
   ],
   "source": [
    "print(out_put)"
   ]
  },
  {
   "cell_type": "code",
   "execution_count": null,
   "metadata": {},
   "outputs": [],
   "source": []
  },
  {
   "cell_type": "code",
   "execution_count": null,
   "metadata": {},
   "outputs": [],
   "source": []
  }
 ],
 "metadata": {
  "kernelspec": {
   "display_name": "Python [conda env:swinir]",
   "language": "python",
   "name": "conda-env-swinir-py"
  },
  "language_info": {
   "codemirror_mode": {
    "name": "ipython",
    "version": 3
   },
   "file_extension": ".py",
   "mimetype": "text/x-python",
   "name": "python",
   "nbconvert_exporter": "python",
   "pygments_lexer": "ipython3",
   "version": "3.8.13"
  }
 },
 "nbformat": 4,
 "nbformat_minor": 2
}
